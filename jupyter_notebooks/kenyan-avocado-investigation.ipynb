{
 "cells": [
  {
   "cell_type": "markdown",
   "id": "e8bedb14",
   "metadata": {},
   "source": [
    "## Kenyan Avocado Export Investigations"
   ]
  },
  {
   "cell_type": "markdown",
   "id": "a833e403",
   "metadata": {},
   "source": [
    "## Navigation:\n",
    "* [Readme](https://github.com/Fazestar01/Car-Price-Analysis/blob/main/README.md)\n",
    "* [Clean Data](https://github.com/Fazestar01/Avocado-Exports-from-Kenya/blob/main/data/cleaned/cleaned_kenyan_avocados.csv)\n",
    "* [Raw Data](https://github.com/Fazestar01/Avocado-Exports-from-Kenya/blob/main/data/raw/kenyan-avocados-guide-2023.csv)\n",
    "* [Dashboard](https://public.tableau.com/app/profile/kaori.ikarashi/viz/CarPriceAnalysis_17501618237170/Story1?publish=yes)"
   ]
  },
  {
   "cell_type": "markdown",
   "id": "3f5e2a50",
   "metadata": {},
   "source": [
    "#### Importing libraries and loading data\n",
    "\n",
    "Firstly and the most important thing here, is to import necessary libraries needed for this investigation:"
   ]
  },
  {
   "cell_type": "code",
   "execution_count": 51,
   "id": "102f67f3",
   "metadata": {},
   "outputs": [],
   "source": [
    "# importing necessary libraries\n",
    "import pandas as pd \n",
    "import numpy as np"
   ]
  },
  {
   "cell_type": "markdown",
   "id": "d81aab64",
   "metadata": {},
   "source": [
    "Once libraries were imported, the next stage was to move onto loading the CSV file for the investigation to proceed. "
   ]
  },
  {
   "cell_type": "markdown",
   "id": "e1c0e3d7",
   "metadata": {},
   "source": [
    "`Side note: The file was originally in the .xlsx format which wasnt very helpful to use as it was near impossible to use on this investigation. The best move was to convert the data into a .CSV file using the Excel software then importing into here.`"
   ]
  },
  {
   "cell_type": "markdown",
   "id": "fb7e2112",
   "metadata": {},
   "source": [
    "### Extraction and Load"
   ]
  },
  {
   "cell_type": "code",
   "execution_count": 52,
   "id": "354c94a1",
   "metadata": {},
   "outputs": [
    {
     "data": {
      "text/html": [
       "<div>\n",
       "<style scoped>\n",
       "    .dataframe tbody tr th:only-of-type {\n",
       "        vertical-align: middle;\n",
       "    }\n",
       "\n",
       "    .dataframe tbody tr th {\n",
       "        vertical-align: top;\n",
       "    }\n",
       "\n",
       "    .dataframe thead th {\n",
       "        text-align: right;\n",
       "    }\n",
       "</style>\n",
       "<table border=\"1\" class=\"dataframe\">\n",
       "  <thead>\n",
       "    <tr style=\"text-align: right;\">\n",
       "      <th></th>\n",
       "      <th>Reporter</th>\n",
       "      <th>TradeFlow</th>\n",
       "      <th>ProductCode</th>\n",
       "      <th>Product Description</th>\n",
       "      <th>Year</th>\n",
       "      <th>Partner</th>\n",
       "      <th>Trade Value 1000USD</th>\n",
       "      <th>Quantity</th>\n",
       "      <th>Quantity Unit</th>\n",
       "    </tr>\n",
       "  </thead>\n",
       "  <tbody>\n",
       "    <tr>\n",
       "      <th>0</th>\n",
       "      <td>Kenya</td>\n",
       "      <td>Export</td>\n",
       "      <td>80440</td>\n",
       "      <td>Avocados, fresh or dried</td>\n",
       "      <td>2023</td>\n",
       "      <td>World</td>\n",
       "      <td>140939.93</td>\n",
       "      <td>122581000.0</td>\n",
       "      <td>Kg</td>\n",
       "    </tr>\n",
       "    <tr>\n",
       "      <th>1</th>\n",
       "      <td>Kenya</td>\n",
       "      <td>Export</td>\n",
       "      <td>80440</td>\n",
       "      <td>Avocados, fresh or dried</td>\n",
       "      <td>2023</td>\n",
       "      <td>Netherlands</td>\n",
       "      <td>42104.41</td>\n",
       "      <td>37450800.0</td>\n",
       "      <td>Kg</td>\n",
       "    </tr>\n",
       "    <tr>\n",
       "      <th>2</th>\n",
       "      <td>Kenya</td>\n",
       "      <td>Export</td>\n",
       "      <td>80440</td>\n",
       "      <td>Avocados, fresh or dried</td>\n",
       "      <td>2023</td>\n",
       "      <td>United Arab Emirates</td>\n",
       "      <td>19235.41</td>\n",
       "      <td>15931400.0</td>\n",
       "      <td>Kg</td>\n",
       "    </tr>\n",
       "    <tr>\n",
       "      <th>3</th>\n",
       "      <td>Kenya</td>\n",
       "      <td>Export</td>\n",
       "      <td>80440</td>\n",
       "      <td>Avocados, fresh or dried</td>\n",
       "      <td>2023</td>\n",
       "      <td>France</td>\n",
       "      <td>14672.57</td>\n",
       "      <td>12117200.0</td>\n",
       "      <td>Kg</td>\n",
       "    </tr>\n",
       "    <tr>\n",
       "      <th>4</th>\n",
       "      <td>Kenya</td>\n",
       "      <td>Export</td>\n",
       "      <td>80440</td>\n",
       "      <td>Avocados, fresh or dried</td>\n",
       "      <td>2023</td>\n",
       "      <td>Spain</td>\n",
       "      <td>13442.72</td>\n",
       "      <td>11372500.0</td>\n",
       "      <td>Kg</td>\n",
       "    </tr>\n",
       "  </tbody>\n",
       "</table>\n",
       "</div>"
      ],
      "text/plain": [
       "  Reporter TradeFlow  ProductCode       Product Description  Year  \\\n",
       "0    Kenya    Export        80440  Avocados, fresh or dried  2023   \n",
       "1    Kenya    Export        80440  Avocados, fresh or dried  2023   \n",
       "2    Kenya    Export        80440  Avocados, fresh or dried  2023   \n",
       "3    Kenya    Export        80440  Avocados, fresh or dried  2023   \n",
       "4    Kenya    Export        80440  Avocados, fresh or dried  2023   \n",
       "\n",
       "                Partner  Trade Value 1000USD     Quantity Quantity Unit  \n",
       "0                 World            140939.93  122581000.0            Kg  \n",
       "1           Netherlands             42104.41   37450800.0            Kg  \n",
       "2  United Arab Emirates             19235.41   15931400.0            Kg  \n",
       "3                France             14672.57   12117200.0            Kg  \n",
       "4                 Spain             13442.72   11372500.0            Kg  "
      ]
     },
     "execution_count": 52,
     "metadata": {},
     "output_type": "execute_result"
    }
   ],
   "source": [
    "# Read CSV file\n",
    "df = pd.read_csv(\"../data/raw/kenyan-avocados-guide-2023.csv\")\n",
    "df.head()"
   ]
  },
  {
   "cell_type": "markdown",
   "id": "f6d0eac3",
   "metadata": {},
   "source": [
    "After loading the data, it is an important step to show the .head of the table. This gives a clearer view as it lets me see what the actual data looks like, allows me to check if the columns are named properly and to confirm if the data has loaded properly."
   ]
  },
  {
   "cell_type": "code",
   "execution_count": 53,
   "id": "2921eec7",
   "metadata": {},
   "outputs": [
    {
     "name": "stdout",
     "output_type": "stream",
     "text": [
      "✅ Dataset shape: (62, 9)\n"
     ]
    },
    {
     "data": {
      "text/html": [
       "<div>\n",
       "<style scoped>\n",
       "    .dataframe tbody tr th:only-of-type {\n",
       "        vertical-align: middle;\n",
       "    }\n",
       "\n",
       "    .dataframe tbody tr th {\n",
       "        vertical-align: top;\n",
       "    }\n",
       "\n",
       "    .dataframe thead th {\n",
       "        text-align: right;\n",
       "    }\n",
       "</style>\n",
       "<table border=\"1\" class=\"dataframe\">\n",
       "  <thead>\n",
       "    <tr style=\"text-align: right;\">\n",
       "      <th></th>\n",
       "      <th>Reporter</th>\n",
       "      <th>TradeFlow</th>\n",
       "      <th>ProductCode</th>\n",
       "      <th>Product Description</th>\n",
       "      <th>Year</th>\n",
       "      <th>Partner</th>\n",
       "      <th>Trade Value 1000USD</th>\n",
       "      <th>Quantity</th>\n",
       "      <th>Quantity Unit</th>\n",
       "    </tr>\n",
       "  </thead>\n",
       "  <tbody>\n",
       "    <tr>\n",
       "      <th>0</th>\n",
       "      <td>Kenya</td>\n",
       "      <td>Export</td>\n",
       "      <td>80440</td>\n",
       "      <td>Avocados, fresh or dried</td>\n",
       "      <td>2023</td>\n",
       "      <td>World</td>\n",
       "      <td>140939.93</td>\n",
       "      <td>122581000.0</td>\n",
       "      <td>Kg</td>\n",
       "    </tr>\n",
       "    <tr>\n",
       "      <th>1</th>\n",
       "      <td>Kenya</td>\n",
       "      <td>Export</td>\n",
       "      <td>80440</td>\n",
       "      <td>Avocados, fresh or dried</td>\n",
       "      <td>2023</td>\n",
       "      <td>Netherlands</td>\n",
       "      <td>42104.41</td>\n",
       "      <td>37450800.0</td>\n",
       "      <td>Kg</td>\n",
       "    </tr>\n",
       "    <tr>\n",
       "      <th>2</th>\n",
       "      <td>Kenya</td>\n",
       "      <td>Export</td>\n",
       "      <td>80440</td>\n",
       "      <td>Avocados, fresh or dried</td>\n",
       "      <td>2023</td>\n",
       "      <td>United Arab Emirates</td>\n",
       "      <td>19235.41</td>\n",
       "      <td>15931400.0</td>\n",
       "      <td>Kg</td>\n",
       "    </tr>\n",
       "    <tr>\n",
       "      <th>3</th>\n",
       "      <td>Kenya</td>\n",
       "      <td>Export</td>\n",
       "      <td>80440</td>\n",
       "      <td>Avocados, fresh or dried</td>\n",
       "      <td>2023</td>\n",
       "      <td>France</td>\n",
       "      <td>14672.57</td>\n",
       "      <td>12117200.0</td>\n",
       "      <td>Kg</td>\n",
       "    </tr>\n",
       "    <tr>\n",
       "      <th>4</th>\n",
       "      <td>Kenya</td>\n",
       "      <td>Export</td>\n",
       "      <td>80440</td>\n",
       "      <td>Avocados, fresh or dried</td>\n",
       "      <td>2023</td>\n",
       "      <td>Spain</td>\n",
       "      <td>13442.72</td>\n",
       "      <td>11372500.0</td>\n",
       "      <td>Kg</td>\n",
       "    </tr>\n",
       "  </tbody>\n",
       "</table>\n",
       "</div>"
      ],
      "text/plain": [
       "  Reporter TradeFlow  ProductCode       Product Description  Year  \\\n",
       "0    Kenya    Export        80440  Avocados, fresh or dried  2023   \n",
       "1    Kenya    Export        80440  Avocados, fresh or dried  2023   \n",
       "2    Kenya    Export        80440  Avocados, fresh or dried  2023   \n",
       "3    Kenya    Export        80440  Avocados, fresh or dried  2023   \n",
       "4    Kenya    Export        80440  Avocados, fresh or dried  2023   \n",
       "\n",
       "                Partner  Trade Value 1000USD     Quantity Quantity Unit  \n",
       "0                 World            140939.93  122581000.0            Kg  \n",
       "1           Netherlands             42104.41   37450800.0            Kg  \n",
       "2  United Arab Emirates             19235.41   15931400.0            Kg  \n",
       "3                France             14672.57   12117200.0            Kg  \n",
       "4                 Spain             13442.72   11372500.0            Kg  "
      ]
     },
     "execution_count": 53,
     "metadata": {},
     "output_type": "execute_result"
    }
   ],
   "source": [
    "#inspect the dataset\n",
    "print(\"✅ Dataset shape:\", df.shape)\n",
    "df.head()"
   ]
  },
  {
   "cell_type": "markdown",
   "id": "d5b7515a",
   "metadata": {},
   "source": [
    "Above shows the number of columns and rows the dataset has and confirms to me that this dataset is enough to be used for this investigation. I also added a '✅' aspect for a clean touch."
   ]
  },
  {
   "cell_type": "markdown",
   "id": "18b92d92",
   "metadata": {},
   "source": [
    "### Transformation - Clean and Prepare"
   ]
  },
  {
   "cell_type": "markdown",
   "id": "05b1d446",
   "metadata": {},
   "source": [
    "Now for this section, I started with cleaning up column names"
   ]
  },
  {
   "cell_type": "code",
   "execution_count": 54,
   "id": "7e43e75a",
   "metadata": {},
   "outputs": [
    {
     "name": "stdout",
     "output_type": "stream",
     "text": [
      "['Reporter', 'TradeFlow', 'ProductCode', 'Product Description', 'Year', 'Partner', 'Trade Value 1000USD', 'Quantity', 'Quantity Unit']\n"
     ]
    }
   ],
   "source": [
    "print(df.columns.tolist())\n",
    "#display the first few rows of the dataset"
   ]
  },
  {
   "cell_type": "markdown",
   "id": "75a3a2c1",
   "metadata": {},
   "source": [
    "Cleaning up names for better formatting"
   ]
  },
  {
   "cell_type": "code",
   "execution_count": 55,
   "id": "971f16dd",
   "metadata": {},
   "outputs": [],
   "source": [
    "# Clean up column names\n",
    "df.columns = df.columns.str.strip().str.lower().str.replace(' ', '_')"
   ]
  },
  {
   "cell_type": "markdown",
   "id": "9cf4ad9a",
   "metadata": {},
   "source": [
    "In order to have a clearer analysis, I cut out and kept only the columns that matters"
   ]
  },
  {
   "cell_type": "code",
   "execution_count": 56,
   "id": "76ae2810",
   "metadata": {},
   "outputs": [],
   "source": [
    "# Select only the columns we need for analysis\n",
    "columns_to_keep = ['year', 'partner', 'trade_value_1000usd', 'quantity', 'reporter']\n",
    "df = df[columns_to_keep]"
   ]
  },
  {
   "cell_type": "markdown",
   "id": "96917298",
   "metadata": {},
   "source": [
    "Now to rename columns for better clarity ✅"
   ]
  },
  {
   "cell_type": "code",
   "execution_count": 57,
   "id": "beb2fefd",
   "metadata": {},
   "outputs": [],
   "source": [
    "df.rename(columns={\n",
    "    'trade_value_1000usd': 'export_value_usd',\n",
    "    'quantity': 'export_quantity_tonnes',\n",
    "    'partner': 'country'\n",
    "}, inplace=True)"
   ]
  },
  {
   "cell_type": "markdown",
   "id": "714843e5",
   "metadata": {},
   "source": [
    "Creating a price per tonne column to show the average price per tonne of avocados in USD. Since export values are in thousands, I multiply by 1000 to get the actual dollar amount."
   ]
  },
  {
   "cell_type": "code",
   "execution_count": 58,
   "id": "80ef2760",
   "metadata": {},
   "outputs": [],
   "source": [
    "df['price_per_tonne_usd'] = df['export_value_usd'] * 1000 / df['export_quantity_tonnes']"
   ]
  },
  {
   "cell_type": "code",
   "execution_count": 59,
   "id": "b824ec5b",
   "metadata": {},
   "outputs": [
    {
     "name": "stdout",
     "output_type": "stream",
     "text": [
      "(62, 6)\n",
      "<class 'pandas.core.frame.DataFrame'>\n",
      "RangeIndex: 62 entries, 0 to 61\n",
      "Data columns (total 6 columns):\n",
      " #   Column                  Non-Null Count  Dtype  \n",
      "---  ------                  --------------  -----  \n",
      " 0   year                    62 non-null     int64  \n",
      " 1   country                 62 non-null     object \n",
      " 2   export_value_usd        62 non-null     float64\n",
      " 3   export_quantity_tonnes  62 non-null     float64\n",
      " 4   reporter                62 non-null     object \n",
      " 5   price_per_tonne_usd     62 non-null     float64\n",
      "dtypes: float64(3), int64(1), object(2)\n",
      "memory usage: 3.0+ KB\n"
     ]
    }
   ],
   "source": [
    "# Now to rename columns for better clarity ✅\n",
    "print(df.shape)\n",
    "df.head()\n",
    "df.info()"
   ]
  },
  {
   "cell_type": "markdown",
   "id": "e46bf3c5",
   "metadata": {},
   "source": [
    "Now we move onto dropping rows with missing values in key columns"
   ]
  },
  {
   "cell_type": "code",
   "execution_count": 61,
   "id": "b269d8df",
   "metadata": {},
   "outputs": [],
   "source": [
    "df.dropna(subset=['year', 'country', 'export_value_usd', 'export_quantity_tonnes'], inplace=True)"
   ]
  },
  {
   "cell_type": "markdown",
   "id": "e61f3765",
   "metadata": {},
   "source": [
    "### Filter\n",
    "\n",
    "Now that the data has been sorted, I will now filter to just Kenya 🌍"
   ]
  },
  {
   "cell_type": "code",
   "execution_count": 62,
   "id": "96ba3934",
   "metadata": {},
   "outputs": [],
   "source": [
    "# Filter to only include Kenya\n",
    "df = df[df['reporter'].str.lower() == 'kenya']\n"
   ]
  },
  {
   "cell_type": "markdown",
   "id": "3a2570bf",
   "metadata": {},
   "source": [
    "I also need to convert the year column into integars and `export_quantity_tonnes` into floats"
   ]
  },
  {
   "cell_type": "code",
   "execution_count": 63,
   "id": "33063819",
   "metadata": {},
   "outputs": [],
   "source": [
    "df['year'] = df['year'].astype(int)\n",
    "df['export_quantity_tonnes'] = df['export_quantity_tonnes'].astype(float)"
   ]
  },
  {
   "cell_type": "markdown",
   "id": "b5477429",
   "metadata": {},
   "source": [
    "### Final Data Check\n",
    "\n",
    "Recalculating the price per tonne to ensure all transformations are applied correctly after filtering and data type conversions."
   ]
  },
  {
   "cell_type": "code",
   "execution_count": 64,
   "id": "585cab08",
   "metadata": {},
   "outputs": [],
   "source": [
    "df['price_per_tonne_usd'] = df['export_value_usd'] * 1000 / df['export_quantity_tonnes']\n",
    "#Renaming columns for clarity"
   ]
  },
  {
   "cell_type": "markdown",
   "id": "a77d011d",
   "metadata": {},
   "source": [
    "### Load \n",
    "\n",
    "Save cleaned data to new file"
   ]
  },
  {
   "cell_type": "code",
   "execution_count": 71,
   "id": "5e373397",
   "metadata": {},
   "outputs": [
    {
     "name": "stdout",
     "output_type": "stream",
     "text": [
      "✅ Data successfully saved to cleaned_kenyan_avocados.csv\n"
     ]
    }
   ],
   "source": [
    "import os\n",
    "\n",
    "# Ensure the directory exists before saving\n",
    "os.makedirs('../data/cleaned', exist_ok=True)\n",
    "\n",
    "# Saving the cleaned data to a new CSV file for Tableau analysis\n",
    "df.to_csv('../data/cleaned/cleaned_kenyan_avocados.csv', index=False)\n",
    "print(\"✅ Data successfully saved to cleaned_kenyan_avocados.csv\")"
   ]
  },
  {
   "cell_type": "code",
   "execution_count": 72,
   "id": "2ceb8374",
   "metadata": {},
   "outputs": [
    {
     "name": "stdout",
     "output_type": "stream",
     "text": [
      "✅ Final shape: (62, 6)\n",
      "✅ Columns: ['year', 'country', 'export_value_usd', 'export_quantity_tonnes', 'reporter', 'price_per_tonne_usd']\n"
     ]
    },
    {
     "data": {
      "text/html": [
       "<div>\n",
       "<style scoped>\n",
       "    .dataframe tbody tr th:only-of-type {\n",
       "        vertical-align: middle;\n",
       "    }\n",
       "\n",
       "    .dataframe tbody tr th {\n",
       "        vertical-align: top;\n",
       "    }\n",
       "\n",
       "    .dataframe thead th {\n",
       "        text-align: right;\n",
       "    }\n",
       "</style>\n",
       "<table border=\"1\" class=\"dataframe\">\n",
       "  <thead>\n",
       "    <tr style=\"text-align: right;\">\n",
       "      <th></th>\n",
       "      <th>year</th>\n",
       "      <th>country</th>\n",
       "      <th>export_value_usd</th>\n",
       "      <th>export_quantity_tonnes</th>\n",
       "      <th>reporter</th>\n",
       "      <th>price_per_tonne_usd</th>\n",
       "    </tr>\n",
       "  </thead>\n",
       "  <tbody>\n",
       "    <tr>\n",
       "      <th>0</th>\n",
       "      <td>2023</td>\n",
       "      <td>World</td>\n",
       "      <td>140939.93</td>\n",
       "      <td>122581000.0</td>\n",
       "      <td>Kenya</td>\n",
       "      <td>1.149770</td>\n",
       "    </tr>\n",
       "    <tr>\n",
       "      <th>1</th>\n",
       "      <td>2023</td>\n",
       "      <td>Netherlands</td>\n",
       "      <td>42104.41</td>\n",
       "      <td>37450800.0</td>\n",
       "      <td>Kenya</td>\n",
       "      <td>1.124259</td>\n",
       "    </tr>\n",
       "    <tr>\n",
       "      <th>2</th>\n",
       "      <td>2023</td>\n",
       "      <td>United Arab Emirates</td>\n",
       "      <td>19235.41</td>\n",
       "      <td>15931400.0</td>\n",
       "      <td>Kenya</td>\n",
       "      <td>1.207390</td>\n",
       "    </tr>\n",
       "    <tr>\n",
       "      <th>3</th>\n",
       "      <td>2023</td>\n",
       "      <td>France</td>\n",
       "      <td>14672.57</td>\n",
       "      <td>12117200.0</td>\n",
       "      <td>Kenya</td>\n",
       "      <td>1.210888</td>\n",
       "    </tr>\n",
       "    <tr>\n",
       "      <th>4</th>\n",
       "      <td>2023</td>\n",
       "      <td>Spain</td>\n",
       "      <td>13442.72</td>\n",
       "      <td>11372500.0</td>\n",
       "      <td>Kenya</td>\n",
       "      <td>1.182037</td>\n",
       "    </tr>\n",
       "  </tbody>\n",
       "</table>\n",
       "</div>"
      ],
      "text/plain": [
       "   year               country  export_value_usd  export_quantity_tonnes  \\\n",
       "0  2023                 World         140939.93             122581000.0   \n",
       "1  2023           Netherlands          42104.41              37450800.0   \n",
       "2  2023  United Arab Emirates          19235.41              15931400.0   \n",
       "3  2023                France          14672.57              12117200.0   \n",
       "4  2023                 Spain          13442.72              11372500.0   \n",
       "\n",
       "  reporter  price_per_tonne_usd  \n",
       "0    Kenya             1.149770  \n",
       "1    Kenya             1.124259  \n",
       "2    Kenya             1.207390  \n",
       "3    Kenya             1.210888  \n",
       "4    Kenya             1.182037  "
      ]
     },
     "execution_count": 72,
     "metadata": {},
     "output_type": "execute_result"
    }
   ],
   "source": [
    "print(\"✅ Final shape:\", df.shape)\n",
    "print(\"✅ Columns:\", df.columns.tolist())\n",
    "df.head()\n"
   ]
  },
  {
   "cell_type": "markdown",
   "id": "720055bd",
   "metadata": {},
   "source": [
    "The dashboard visualisations for this data can be found [here](https://public.tableau.com/app/profile/kaori.ikarashi/viz/CarPriceAnalysis_17501618237170/Story1?publish=yes). ADDD LINKKKK HERE FAIZA"
   ]
  },
  {
   "cell_type": "markdown",
   "id": "a3e09fc9",
   "metadata": {},
   "source": [
    "### Now that the data has been extracted, cleaned and loaded into a new dataset, The next stage is now to move onto the hypothesis and visualisations for this investigation. 📊"
   ]
  }
 ],
 "metadata": {
  "kernelspec": {
   "display_name": "Python 3",
   "language": "python",
   "name": "python3"
  },
  "language_info": {
   "codemirror_mode": {
    "name": "ipython",
    "version": 3
   },
   "file_extension": ".py",
   "mimetype": "text/x-python",
   "name": "python",
   "nbconvert_exporter": "python",
   "pygments_lexer": "ipython3",
   "version": "3.12.8"
  }
 },
 "nbformat": 4,
 "nbformat_minor": 5
}
