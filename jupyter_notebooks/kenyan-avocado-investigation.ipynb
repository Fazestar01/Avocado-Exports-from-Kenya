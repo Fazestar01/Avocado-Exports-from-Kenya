{
 "cells": [
  {
   "cell_type": "markdown",
   "id": "e8bedb14",
   "metadata": {},
   "source": [
    "## Kenyan Avocado Export Investigations"
   ]
  },
  {
   "cell_type": "markdown",
   "id": "a833e403",
   "metadata": {},
   "source": [
    "## Navigation:\n",
    "* [Readme](https://github.com/Fazestar01/Avocado-Exports-from-Kenya/blob/main/README.md)\n",
    "* [Clean Data](https://github.com/Fazestar01/Avocado-Exports-from-Kenya/blob/main/data/cleaned/cleaned_kenyan_avocados.csv)\n",
    "* [Raw Data](https://github.com/Fazestar01/Avocado-Exports-from-Kenya/blob/main/data/raw/kenyan-avocados-guide-2023.csv)\n",
    "* [Dashboard](https://public.tableau.com/app/profile/faiza.abdulqadir/viz/Kenyan_Avocado_Analysis/KenyanAvocadoExportsAnalysis?publish=yes)"
   ]
  },
  {
   "cell_type": "markdown",
   "id": "3f5e2a50",
   "metadata": {},
   "source": [
    "#### Importing libraries and loading data\n",
    "\n",
    "Firstly and the most important thing here, is to import necessary libraries needed for this investigation:"
   ]
  },
  {
   "cell_type": "code",
   "execution_count": 11,
   "id": "102f67f3",
   "metadata": {},
   "outputs": [],
   "source": [
    "# importing necessary libraries\n",
    "import pandas as pd \n",
    "import numpy as np"
   ]
  },
  {
   "cell_type": "markdown",
   "id": "d81aab64",
   "metadata": {},
   "source": [
    "Once libraries were imported, the next stage was to move onto loading the CSV file for the investigation to proceed. "
   ]
  },
  {
   "cell_type": "markdown",
   "id": "e1c0e3d7",
   "metadata": {},
   "source": [
    "`Side note: The file was originally in the .xlsx format which wasnt very helpful to use as it was near impossible to use on this investigation. The best move was to convert the data into a .CSV file using the Excel software then importing into here.`"
   ]
  },
  {
   "cell_type": "markdown",
   "id": "fb7e2112",
   "metadata": {},
   "source": [
    "### Extraction and Load"
   ]
  },
  {
   "cell_type": "code",
   "execution_count": 12,
   "id": "354c94a1",
   "metadata": {},
   "outputs": [
    {
     "data": {
      "text/html": [
       "<div>\n",
       "<style scoped>\n",
       "    .dataframe tbody tr th:only-of-type {\n",
       "        vertical-align: middle;\n",
       "    }\n",
       "\n",
       "    .dataframe tbody tr th {\n",
       "        vertical-align: top;\n",
       "    }\n",
       "\n",
       "    .dataframe thead th {\n",
       "        text-align: right;\n",
       "    }\n",
       "</style>\n",
       "<table border=\"1\" class=\"dataframe\">\n",
       "  <thead>\n",
       "    <tr style=\"text-align: right;\">\n",
       "      <th></th>\n",
       "      <th>Reporter</th>\n",
       "      <th>TradeFlow</th>\n",
       "      <th>ProductCode</th>\n",
       "      <th>Product Description</th>\n",
       "      <th>Year</th>\n",
       "      <th>Partner</th>\n",
       "      <th>Trade Value 1000USD</th>\n",
       "      <th>Quantity</th>\n",
       "      <th>Quantity Unit</th>\n",
       "    </tr>\n",
       "  </thead>\n",
       "  <tbody>\n",
       "    <tr>\n",
       "      <th>0</th>\n",
       "      <td>Kenya</td>\n",
       "      <td>Export</td>\n",
       "      <td>80440</td>\n",
       "      <td>Avocados, fresh or dried</td>\n",
       "      <td>2023</td>\n",
       "      <td>World</td>\n",
       "      <td>140939.93</td>\n",
       "      <td>122581000.0</td>\n",
       "      <td>Kg</td>\n",
       "    </tr>\n",
       "    <tr>\n",
       "      <th>1</th>\n",
       "      <td>Kenya</td>\n",
       "      <td>Export</td>\n",
       "      <td>80440</td>\n",
       "      <td>Avocados, fresh or dried</td>\n",
       "      <td>2023</td>\n",
       "      <td>Netherlands</td>\n",
       "      <td>42104.41</td>\n",
       "      <td>37450800.0</td>\n",
       "      <td>Kg</td>\n",
       "    </tr>\n",
       "    <tr>\n",
       "      <th>2</th>\n",
       "      <td>Kenya</td>\n",
       "      <td>Export</td>\n",
       "      <td>80440</td>\n",
       "      <td>Avocados, fresh or dried</td>\n",
       "      <td>2023</td>\n",
       "      <td>United Arab Emirates</td>\n",
       "      <td>19235.41</td>\n",
       "      <td>15931400.0</td>\n",
       "      <td>Kg</td>\n",
       "    </tr>\n",
       "    <tr>\n",
       "      <th>3</th>\n",
       "      <td>Kenya</td>\n",
       "      <td>Export</td>\n",
       "      <td>80440</td>\n",
       "      <td>Avocados, fresh or dried</td>\n",
       "      <td>2023</td>\n",
       "      <td>France</td>\n",
       "      <td>14672.57</td>\n",
       "      <td>12117200.0</td>\n",
       "      <td>Kg</td>\n",
       "    </tr>\n",
       "    <tr>\n",
       "      <th>4</th>\n",
       "      <td>Kenya</td>\n",
       "      <td>Export</td>\n",
       "      <td>80440</td>\n",
       "      <td>Avocados, fresh or dried</td>\n",
       "      <td>2023</td>\n",
       "      <td>Spain</td>\n",
       "      <td>13442.72</td>\n",
       "      <td>11372500.0</td>\n",
       "      <td>Kg</td>\n",
       "    </tr>\n",
       "  </tbody>\n",
       "</table>\n",
       "</div>"
      ],
      "text/plain": [
       "  Reporter TradeFlow  ProductCode       Product Description  Year  \\\n",
       "0    Kenya    Export        80440  Avocados, fresh or dried  2023   \n",
       "1    Kenya    Export        80440  Avocados, fresh or dried  2023   \n",
       "2    Kenya    Export        80440  Avocados, fresh or dried  2023   \n",
       "3    Kenya    Export        80440  Avocados, fresh or dried  2023   \n",
       "4    Kenya    Export        80440  Avocados, fresh or dried  2023   \n",
       "\n",
       "                Partner  Trade Value 1000USD     Quantity Quantity Unit  \n",
       "0                 World            140939.93  122581000.0            Kg  \n",
       "1           Netherlands             42104.41   37450800.0            Kg  \n",
       "2  United Arab Emirates             19235.41   15931400.0            Kg  \n",
       "3                France             14672.57   12117200.0            Kg  \n",
       "4                 Spain             13442.72   11372500.0            Kg  "
      ]
     },
     "execution_count": 12,
     "metadata": {},
     "output_type": "execute_result"
    }
   ],
   "source": [
    "# Read CSV file\n",
    "df = pd.read_csv(\"../data/raw/kenyan-avocados-guide-2023.csv\")\n",
    "df.head()"
   ]
  },
  {
   "cell_type": "markdown",
   "id": "f6d0eac3",
   "metadata": {},
   "source": [
    "After loading the data, it is an important step to show the .head of the table. This gives a clearer view as it lets me see what the actual data looks like, allows me to check if the columns are named properly and to confirm if the data has loaded properly."
   ]
  },
  {
   "cell_type": "code",
   "execution_count": 13,
   "id": "2921eec7",
   "metadata": {},
   "outputs": [
    {
     "name": "stdout",
     "output_type": "stream",
     "text": [
      "✅ Dataset shape: (62, 9)\n"
     ]
    },
    {
     "data": {
      "text/html": [
       "<div>\n",
       "<style scoped>\n",
       "    .dataframe tbody tr th:only-of-type {\n",
       "        vertical-align: middle;\n",
       "    }\n",
       "\n",
       "    .dataframe tbody tr th {\n",
       "        vertical-align: top;\n",
       "    }\n",
       "\n",
       "    .dataframe thead th {\n",
       "        text-align: right;\n",
       "    }\n",
       "</style>\n",
       "<table border=\"1\" class=\"dataframe\">\n",
       "  <thead>\n",
       "    <tr style=\"text-align: right;\">\n",
       "      <th></th>\n",
       "      <th>Reporter</th>\n",
       "      <th>TradeFlow</th>\n",
       "      <th>ProductCode</th>\n",
       "      <th>Product Description</th>\n",
       "      <th>Year</th>\n",
       "      <th>Partner</th>\n",
       "      <th>Trade Value 1000USD</th>\n",
       "      <th>Quantity</th>\n",
       "      <th>Quantity Unit</th>\n",
       "    </tr>\n",
       "  </thead>\n",
       "  <tbody>\n",
       "    <tr>\n",
       "      <th>0</th>\n",
       "      <td>Kenya</td>\n",
       "      <td>Export</td>\n",
       "      <td>80440</td>\n",
       "      <td>Avocados, fresh or dried</td>\n",
       "      <td>2023</td>\n",
       "      <td>World</td>\n",
       "      <td>140939.93</td>\n",
       "      <td>122581000.0</td>\n",
       "      <td>Kg</td>\n",
       "    </tr>\n",
       "    <tr>\n",
       "      <th>1</th>\n",
       "      <td>Kenya</td>\n",
       "      <td>Export</td>\n",
       "      <td>80440</td>\n",
       "      <td>Avocados, fresh or dried</td>\n",
       "      <td>2023</td>\n",
       "      <td>Netherlands</td>\n",
       "      <td>42104.41</td>\n",
       "      <td>37450800.0</td>\n",
       "      <td>Kg</td>\n",
       "    </tr>\n",
       "    <tr>\n",
       "      <th>2</th>\n",
       "      <td>Kenya</td>\n",
       "      <td>Export</td>\n",
       "      <td>80440</td>\n",
       "      <td>Avocados, fresh or dried</td>\n",
       "      <td>2023</td>\n",
       "      <td>United Arab Emirates</td>\n",
       "      <td>19235.41</td>\n",
       "      <td>15931400.0</td>\n",
       "      <td>Kg</td>\n",
       "    </tr>\n",
       "    <tr>\n",
       "      <th>3</th>\n",
       "      <td>Kenya</td>\n",
       "      <td>Export</td>\n",
       "      <td>80440</td>\n",
       "      <td>Avocados, fresh or dried</td>\n",
       "      <td>2023</td>\n",
       "      <td>France</td>\n",
       "      <td>14672.57</td>\n",
       "      <td>12117200.0</td>\n",
       "      <td>Kg</td>\n",
       "    </tr>\n",
       "    <tr>\n",
       "      <th>4</th>\n",
       "      <td>Kenya</td>\n",
       "      <td>Export</td>\n",
       "      <td>80440</td>\n",
       "      <td>Avocados, fresh or dried</td>\n",
       "      <td>2023</td>\n",
       "      <td>Spain</td>\n",
       "      <td>13442.72</td>\n",
       "      <td>11372500.0</td>\n",
       "      <td>Kg</td>\n",
       "    </tr>\n",
       "  </tbody>\n",
       "</table>\n",
       "</div>"
      ],
      "text/plain": [
       "  Reporter TradeFlow  ProductCode       Product Description  Year  \\\n",
       "0    Kenya    Export        80440  Avocados, fresh or dried  2023   \n",
       "1    Kenya    Export        80440  Avocados, fresh or dried  2023   \n",
       "2    Kenya    Export        80440  Avocados, fresh or dried  2023   \n",
       "3    Kenya    Export        80440  Avocados, fresh or dried  2023   \n",
       "4    Kenya    Export        80440  Avocados, fresh or dried  2023   \n",
       "\n",
       "                Partner  Trade Value 1000USD     Quantity Quantity Unit  \n",
       "0                 World            140939.93  122581000.0            Kg  \n",
       "1           Netherlands             42104.41   37450800.0            Kg  \n",
       "2  United Arab Emirates             19235.41   15931400.0            Kg  \n",
       "3                France             14672.57   12117200.0            Kg  \n",
       "4                 Spain             13442.72   11372500.0            Kg  "
      ]
     },
     "execution_count": 13,
     "metadata": {},
     "output_type": "execute_result"
    }
   ],
   "source": [
    "#inspect the dataset\n",
    "print(\"✅ Dataset shape:\", df.shape)\n",
    "df.head()"
   ]
  },
  {
   "cell_type": "markdown",
   "id": "d5b7515a",
   "metadata": {},
   "source": [
    "Above shows the number of columns and rows the dataset has and confirms to me that this dataset is enough to be used for this investigation. I also added a '✅' aspect for a clean touch."
   ]
  },
  {
   "cell_type": "markdown",
   "id": "18b92d92",
   "metadata": {},
   "source": [
    "### Transformation - Clean and Prepare"
   ]
  },
  {
   "cell_type": "markdown",
   "id": "05b1d446",
   "metadata": {},
   "source": [
    "Now for this section, I started with cleaning up column names"
   ]
  },
  {
   "cell_type": "code",
   "execution_count": 14,
   "id": "7e43e75a",
   "metadata": {},
   "outputs": [
    {
     "name": "stdout",
     "output_type": "stream",
     "text": [
      "['Reporter', 'TradeFlow', 'ProductCode', 'Product Description', 'Year', 'Partner', 'Trade Value 1000USD', 'Quantity', 'Quantity Unit']\n"
     ]
    }
   ],
   "source": [
    "print(df.columns.tolist())\n",
    "#display the first few rows of the dataset"
   ]
  },
  {
   "cell_type": "markdown",
   "id": "75a3a2c1",
   "metadata": {},
   "source": [
    "Cleaning up names for better formatting"
   ]
  },
  {
   "cell_type": "code",
   "execution_count": 15,
   "id": "971f16dd",
   "metadata": {},
   "outputs": [],
   "source": [
    "# Clean up column names\n",
    "df.columns = df.columns.str.strip().str.lower().str.replace(' ', '_')"
   ]
  },
  {
   "cell_type": "markdown",
   "id": "9cf4ad9a",
   "metadata": {},
   "source": [
    "In order to have a clearer analysis, I cut out and kept only the columns that matters"
   ]
  },
  {
   "cell_type": "code",
   "execution_count": 16,
   "id": "76ae2810",
   "metadata": {},
   "outputs": [],
   "source": [
    "# Select only the columns we need for analysis\n",
    "columns_to_keep = ['year', 'partner', 'trade_value_1000usd', 'quantity', 'reporter']\n",
    "df = df[columns_to_keep]"
   ]
  },
  {
   "cell_type": "markdown",
   "id": "96917298",
   "metadata": {},
   "source": [
    "Now to rename columns for better clarity ✅"
   ]
  },
  {
   "cell_type": "code",
   "execution_count": 17,
   "id": "beb2fefd",
   "metadata": {},
   "outputs": [],
   "source": [
    "df.rename(columns={\n",
    "    'trade_value_1000usd': 'export_value_usd',\n",
    "    'quantity': 'export_quantity_tonnes',\n",
    "    'partner': 'country'\n",
    "}, inplace=True)"
   ]
  },
  {
   "cell_type": "markdown",
   "id": "714843e5",
   "metadata": {},
   "source": [
    "Creating a price per tonne column to show the average price per tonne of avocados in USD. Since export values are in thousands, I multiply by 1000 to get the actual dollar amount."
   ]
  },
  {
   "cell_type": "code",
   "execution_count": 18,
   "id": "80ef2760",
   "metadata": {},
   "outputs": [],
   "source": [
    "df['price_per_tonne_usd'] = df['export_value_usd'] * 1000 / df['export_quantity_tonnes']"
   ]
  },
  {
   "cell_type": "code",
   "execution_count": 19,
   "id": "b824ec5b",
   "metadata": {},
   "outputs": [
    {
     "name": "stdout",
     "output_type": "stream",
     "text": [
      "(62, 6)\n",
      "<class 'pandas.core.frame.DataFrame'>\n",
      "RangeIndex: 62 entries, 0 to 61\n",
      "Data columns (total 6 columns):\n",
      " #   Column                  Non-Null Count  Dtype  \n",
      "---  ------                  --------------  -----  \n",
      " 0   year                    62 non-null     int64  \n",
      " 1   country                 62 non-null     object \n",
      " 2   export_value_usd        62 non-null     float64\n",
      " 3   export_quantity_tonnes  62 non-null     float64\n",
      " 4   reporter                62 non-null     object \n",
      " 5   price_per_tonne_usd     62 non-null     float64\n",
      "dtypes: float64(3), int64(1), object(2)\n",
      "memory usage: 3.0+ KB\n"
     ]
    }
   ],
   "source": [
    "# Now to rename columns for better clarity ✅\n",
    "print(df.shape)\n",
    "df.head()\n",
    "df.info()"
   ]
  },
  {
   "cell_type": "markdown",
   "id": "e46bf3c5",
   "metadata": {},
   "source": [
    "Now we move onto dropping rows with missing values in key columns"
   ]
  },
  {
   "cell_type": "code",
   "execution_count": 20,
   "id": "b269d8df",
   "metadata": {},
   "outputs": [],
   "source": [
    "df.dropna(subset=['year', 'country', 'export_value_usd', 'export_quantity_tonnes'], inplace=True)"
   ]
  },
  {
   "cell_type": "markdown",
   "id": "e61f3765",
   "metadata": {},
   "source": [
    "### Filter\n",
    "\n",
    "Now that the data has been sorted, I will now filter to just Kenya 🌍"
   ]
  },
  {
   "cell_type": "code",
   "execution_count": 21,
   "id": "96ba3934",
   "metadata": {},
   "outputs": [],
   "source": [
    "# Filter to only include Kenya\n",
    "df = df[df['reporter'].str.lower() == 'kenya']\n"
   ]
  },
  {
   "cell_type": "code",
   "execution_count": 22,
   "id": "beda58e1",
   "metadata": {},
   "outputs": [
    {
     "name": "stdout",
     "output_type": "stream",
     "text": [
      "✅ Removed 'World' entries. Dataset now has 62 rows\n"
     ]
    }
   ],
   "source": [
    "# Remove 'World' entries as they are too vague for country-specific analysis\n",
    "df = df[df['country'].str.lower() != 'world']\n",
    "print(f\"✅ Removed 'World' entries. Dataset now has {df.shape[0]} rows\")"
   ]
  },
  {
   "cell_type": "markdown",
   "id": "3a2570bf",
   "metadata": {},
   "source": [
    "I also need to convert the year column into integars and `export_quantity_tonnes` into floats"
   ]
  },
  {
   "cell_type": "code",
   "execution_count": 23,
   "id": "33063819",
   "metadata": {},
   "outputs": [],
   "source": [
    "df['year'] = df['year'].astype(int)\n",
    "df['export_quantity_tonnes'] = df['export_quantity_tonnes'].astype(float)"
   ]
  },
  {
   "cell_type": "markdown",
   "id": "b5477429",
   "metadata": {},
   "source": [
    "### Final Data Check\n",
    "\n",
    "Recalculating the price per tonne to ensure all transformations are applied correctly after filtering and data type conversions."
   ]
  },
  {
   "cell_type": "code",
   "execution_count": 24,
   "id": "585cab08",
   "metadata": {},
   "outputs": [],
   "source": [
    "df['price_per_tonne_usd'] = df['export_value_usd'] * 1000 / df['export_quantity_tonnes']\n",
    "#Renaming columns for clarity"
   ]
  },
  {
   "cell_type": "markdown",
   "id": "a77d011d",
   "metadata": {},
   "source": [
    "### Load \n",
    "\n",
    "Save cleaned data to new file"
   ]
  },
  {
   "cell_type": "code",
   "execution_count": 25,
   "id": "5e373397",
   "metadata": {},
   "outputs": [
    {
     "name": "stdout",
     "output_type": "stream",
     "text": [
      "✅ Data successfully saved to cleaned_kenyan_avocados.csv\n"
     ]
    }
   ],
   "source": [
    "import os\n",
    "\n",
    "# Ensure the directory exists before saving\n",
    "os.makedirs('../data/cleaned', exist_ok=True)\n",
    "\n",
    "# Saving the cleaned data to a new CSV file for Tableau analysis\n",
    "df.to_csv('../data/cleaned/cleaned_kenyan_avocados.csv', index=False)\n",
    "print(\"✅ Data successfully saved to cleaned_kenyan_avocados.csv\")"
   ]
  },
  {
   "cell_type": "code",
   "execution_count": 26,
   "id": "2ceb8374",
   "metadata": {},
   "outputs": [
    {
     "name": "stdout",
     "output_type": "stream",
     "text": [
      "✅ Final shape: (62, 6)\n",
      "✅ Columns: ['year', 'country', 'export_value_usd', 'export_quantity_tonnes', 'reporter', 'price_per_tonne_usd']\n"
     ]
    },
    {
     "data": {
      "text/html": [
       "<div>\n",
       "<style scoped>\n",
       "    .dataframe tbody tr th:only-of-type {\n",
       "        vertical-align: middle;\n",
       "    }\n",
       "\n",
       "    .dataframe tbody tr th {\n",
       "        vertical-align: top;\n",
       "    }\n",
       "\n",
       "    .dataframe thead th {\n",
       "        text-align: right;\n",
       "    }\n",
       "</style>\n",
       "<table border=\"1\" class=\"dataframe\">\n",
       "  <thead>\n",
       "    <tr style=\"text-align: right;\">\n",
       "      <th></th>\n",
       "      <th>year</th>\n",
       "      <th>country</th>\n",
       "      <th>export_value_usd</th>\n",
       "      <th>export_quantity_tonnes</th>\n",
       "      <th>reporter</th>\n",
       "      <th>price_per_tonne_usd</th>\n",
       "    </tr>\n",
       "  </thead>\n",
       "  <tbody>\n",
       "    <tr>\n",
       "      <th>0</th>\n",
       "      <td>2023</td>\n",
       "      <td>World</td>\n",
       "      <td>140939.93</td>\n",
       "      <td>122581000.0</td>\n",
       "      <td>Kenya</td>\n",
       "      <td>1.149770</td>\n",
       "    </tr>\n",
       "    <tr>\n",
       "      <th>1</th>\n",
       "      <td>2023</td>\n",
       "      <td>Netherlands</td>\n",
       "      <td>42104.41</td>\n",
       "      <td>37450800.0</td>\n",
       "      <td>Kenya</td>\n",
       "      <td>1.124259</td>\n",
       "    </tr>\n",
       "    <tr>\n",
       "      <th>2</th>\n",
       "      <td>2023</td>\n",
       "      <td>United Arab Emirates</td>\n",
       "      <td>19235.41</td>\n",
       "      <td>15931400.0</td>\n",
       "      <td>Kenya</td>\n",
       "      <td>1.207390</td>\n",
       "    </tr>\n",
       "    <tr>\n",
       "      <th>3</th>\n",
       "      <td>2023</td>\n",
       "      <td>France</td>\n",
       "      <td>14672.57</td>\n",
       "      <td>12117200.0</td>\n",
       "      <td>Kenya</td>\n",
       "      <td>1.210888</td>\n",
       "    </tr>\n",
       "    <tr>\n",
       "      <th>4</th>\n",
       "      <td>2023</td>\n",
       "      <td>Spain</td>\n",
       "      <td>13442.72</td>\n",
       "      <td>11372500.0</td>\n",
       "      <td>Kenya</td>\n",
       "      <td>1.182037</td>\n",
       "    </tr>\n",
       "  </tbody>\n",
       "</table>\n",
       "</div>"
      ],
      "text/plain": [
       "   year               country  export_value_usd  export_quantity_tonnes  \\\n",
       "0  2023                 World         140939.93             122581000.0   \n",
       "1  2023           Netherlands          42104.41              37450800.0   \n",
       "2  2023  United Arab Emirates          19235.41              15931400.0   \n",
       "3  2023                France          14672.57              12117200.0   \n",
       "4  2023                 Spain          13442.72              11372500.0   \n",
       "\n",
       "  reporter  price_per_tonne_usd  \n",
       "0    Kenya             1.149770  \n",
       "1    Kenya             1.124259  \n",
       "2    Kenya             1.207390  \n",
       "3    Kenya             1.210888  \n",
       "4    Kenya             1.182037  "
      ]
     },
     "execution_count": 26,
     "metadata": {},
     "output_type": "execute_result"
    }
   ],
   "source": [
    "print(\"✅ Final shape:\", df.shape)\n",
    "print(\"✅ Columns:\", df.columns.tolist())\n",
    "df.head()\n"
   ]
  },
  {
   "cell_type": "markdown",
   "id": "720055bd",
   "metadata": {},
   "source": [
    "The dashboard visualisations for this data can be found [here](https://public.tableau.com/app/profile/faiza.abdulqadir/viz/Kenyan_Avocado_Analysis/KenyanAvocadoExportsAnalysis?publish=yes)."
   ]
  },
  {
   "cell_type": "markdown",
   "id": "a3e09fc9",
   "metadata": {},
   "source": [
    "### Now that the data has been extracted, cleaned and loaded into a new dataset, The next stage is now to move onto the hypothesis and visualisations for this investigation. 📊"
   ]
  },
  {
   "cell_type": "markdown",
   "id": "55e59f3b",
   "metadata": {},
   "source": [
    "# Data Visualisation Using : Matplotlib, Seaborn & Plotly"
   ]
  },
  {
   "cell_type": "markdown",
   "id": "40d5e316",
   "metadata": {},
   "source": [
    "For this section of the investigation, I will be analysing the Kenyan avocado market through various visualisation libraries. \n",
    "\n",
    "I have imported the libraies below in one code format which is an easier way to have all the libraries together as aposed to doing it all separately."
   ]
  },
  {
   "cell_type": "code",
   "execution_count": 27,
   "id": "6cc44ad6",
   "metadata": {},
   "outputs": [],
   "source": [
    "import pandas as pd\n",
    "import seaborn as sns\n",
    "import matplotlib.pyplot as plt\n",
    "import plotly.express as px"
   ]
  },
  {
   "cell_type": "markdown",
   "id": "9112bbc0",
   "metadata": {},
   "source": [
    "After adding the libraries, I made it a point to keep the table nice and clean so it is arranged neatly."
   ]
  },
  {
   "cell_type": "code",
   "execution_count": 28,
   "id": "dc165568",
   "metadata": {},
   "outputs": [
    {
     "name": "stdout",
     "output_type": "stream",
     "text": [
      "(62, 9)\n"
     ]
    },
    {
     "data": {
      "text/html": [
       "<div>\n",
       "<style scoped>\n",
       "    .dataframe tbody tr th:only-of-type {\n",
       "        vertical-align: middle;\n",
       "    }\n",
       "\n",
       "    .dataframe tbody tr th {\n",
       "        vertical-align: top;\n",
       "    }\n",
       "\n",
       "    .dataframe thead th {\n",
       "        text-align: right;\n",
       "    }\n",
       "</style>\n",
       "<table border=\"1\" class=\"dataframe\">\n",
       "  <thead>\n",
       "    <tr style=\"text-align: right;\">\n",
       "      <th></th>\n",
       "      <th>reporter</th>\n",
       "      <th>tradeflow</th>\n",
       "      <th>productcode</th>\n",
       "      <th>product_description</th>\n",
       "      <th>year</th>\n",
       "      <th>partner</th>\n",
       "      <th>trade_value_1000usd</th>\n",
       "      <th>quantity</th>\n",
       "      <th>quantity_unit</th>\n",
       "    </tr>\n",
       "  </thead>\n",
       "  <tbody>\n",
       "    <tr>\n",
       "      <th>0</th>\n",
       "      <td>Kenya</td>\n",
       "      <td>Export</td>\n",
       "      <td>80440</td>\n",
       "      <td>Avocados, fresh or dried</td>\n",
       "      <td>2023</td>\n",
       "      <td>World</td>\n",
       "      <td>140939.93</td>\n",
       "      <td>122581000.0</td>\n",
       "      <td>Kg</td>\n",
       "    </tr>\n",
       "    <tr>\n",
       "      <th>1</th>\n",
       "      <td>Kenya</td>\n",
       "      <td>Export</td>\n",
       "      <td>80440</td>\n",
       "      <td>Avocados, fresh or dried</td>\n",
       "      <td>2023</td>\n",
       "      <td>Netherlands</td>\n",
       "      <td>42104.41</td>\n",
       "      <td>37450800.0</td>\n",
       "      <td>Kg</td>\n",
       "    </tr>\n",
       "    <tr>\n",
       "      <th>2</th>\n",
       "      <td>Kenya</td>\n",
       "      <td>Export</td>\n",
       "      <td>80440</td>\n",
       "      <td>Avocados, fresh or dried</td>\n",
       "      <td>2023</td>\n",
       "      <td>United Arab Emirates</td>\n",
       "      <td>19235.41</td>\n",
       "      <td>15931400.0</td>\n",
       "      <td>Kg</td>\n",
       "    </tr>\n",
       "    <tr>\n",
       "      <th>3</th>\n",
       "      <td>Kenya</td>\n",
       "      <td>Export</td>\n",
       "      <td>80440</td>\n",
       "      <td>Avocados, fresh or dried</td>\n",
       "      <td>2023</td>\n",
       "      <td>France</td>\n",
       "      <td>14672.57</td>\n",
       "      <td>12117200.0</td>\n",
       "      <td>Kg</td>\n",
       "    </tr>\n",
       "    <tr>\n",
       "      <th>4</th>\n",
       "      <td>Kenya</td>\n",
       "      <td>Export</td>\n",
       "      <td>80440</td>\n",
       "      <td>Avocados, fresh or dried</td>\n",
       "      <td>2023</td>\n",
       "      <td>Spain</td>\n",
       "      <td>13442.72</td>\n",
       "      <td>11372500.0</td>\n",
       "      <td>Kg</td>\n",
       "    </tr>\n",
       "  </tbody>\n",
       "</table>\n",
       "</div>"
      ],
      "text/plain": [
       "  reporter tradeflow  productcode       product_description  year  \\\n",
       "0    Kenya    Export        80440  Avocados, fresh or dried  2023   \n",
       "1    Kenya    Export        80440  Avocados, fresh or dried  2023   \n",
       "2    Kenya    Export        80440  Avocados, fresh or dried  2023   \n",
       "3    Kenya    Export        80440  Avocados, fresh or dried  2023   \n",
       "4    Kenya    Export        80440  Avocados, fresh or dried  2023   \n",
       "\n",
       "                partner  trade_value_1000usd     quantity quantity_unit  \n",
       "0                 World            140939.93  122581000.0            Kg  \n",
       "1           Netherlands             42104.41   37450800.0            Kg  \n",
       "2  United Arab Emirates             19235.41   15931400.0            Kg  \n",
       "3                France             14672.57   12117200.0            Kg  \n",
       "4                 Spain             13442.72   11372500.0            Kg  "
      ]
     },
     "execution_count": 28,
     "metadata": {},
     "output_type": "execute_result"
    }
   ],
   "source": [
    "# Optional: display charts inside notebook\n",
    "%matplotlib inline  \n",
    "\n",
    "# Read the dataset\n",
    "df = pd.read_csv(\"../data/raw/kenyan-avocados-guide-2023.csv\")\n",
    "\n",
    "# Clean column names (if not already done)\n",
    "df.columns = df.columns.str.strip().str.lower().str.replace(' ', '_')\n",
    "\n",
    "# View basic info\n",
    "print(df.shape)\n",
    "df.head()"
   ]
  },
  {
   "cell_type": "markdown",
   "id": "716ad9f8",
   "metadata": {},
   "source": [
    "## Chart 1 - Seaborn:\n",
    "\n",
    "### Bar Chart – Top Export Destinations\n",
    "\n",
    "**The Goal** : Is to show how avocados export quantity changed over time."
   ]
  },
  {
   "cell_type": "markdown",
   "id": "eeb3b5fe",
   "metadata": {},
   "source": [
    "**Bar Chart**  : Identify the top 10 countries importing Kenyan avocados by trade value in 2023."
   ]
  },
  {
   "cell_type": "code",
   "execution_count": 29,
   "id": "fc0541ed",
   "metadata": {},
   "outputs": [
    {
     "name": "stderr",
     "output_type": "stream",
     "text": [
      "C:\\Users\\faiza\\AppData\\Local\\Temp\\ipykernel_11880\\3855706150.py:6: FutureWarning: \n",
      "\n",
      "Passing `palette` without assigning `hue` is deprecated and will be removed in v0.14.0. Assign the `y` variable to `hue` and set `legend=False` for the same effect.\n",
      "\n",
      "  sns.barplot(x=top_countries.values, y=top_countries.index, palette=\"viridis\")\n"
     ]
    },
    {
     "data": {
      "image/png": "[encoded data removed]",
      "text/plain": [
       "<Figure size 1200x600 with 1 Axes>"
      ]
     },
     "metadata": {},
     "output_type": "display_data"
    }
   ],
   "source": [
    "# Sort and select top 10\n",
    "top_countries = df.groupby('partner')['trade_value_1000usd'].sum().sort_values(ascending=False).head(10)\n",
    "\n",
    "\n",
    "plt.figure(figsize=(12, 6))\n",
    "sns.barplot(x=top_countries.values, y=top_countries.index, palette=\"viridis\")\n",
    "plt.title(\"Top 10 Countries by Trade Value of Kenyan Avocado Exports (2023)\")\n",
    "plt.xlabel(\"Trade Value (in 1,000 USD)\")\n",
    "plt.ylabel(\"Importing Country\")\n",
    "plt.tight_layout()\n",
    "plt.show()"
   ]
  },
  {
   "cell_type": "markdown",
   "id": "8873538c",
   "metadata": {},
   "source": [
    "The first bar grapth above shows how much avocados in Kenya are exported to different countries in 2023.\n",
    "\n",
    " As you will see all the upcoming visuals on this notebook shows 'World' as a category, this is a good point to raise on the upcoming investigations as it is worth noting if this category is necessary."
   ]
  },
  {
   "cell_type": "markdown",
   "id": "f92175ad",
   "metadata": {},
   "source": [
    "## Chart 2 - Ploty:\n",
    "\n",
    "### Scatter Plot – Quantity vs Trade Value\n",
    "\n",
    "**The Goal** : Explore the realtionships between quantity exported a the trade value to see if more quantity always results in more money."
   ]
  },
  {
   "cell_type": "markdown",
   "id": "e3543610",
   "metadata": {},
   "source": [
    "**Scatter Plot**  : Relationship Between Quantity and Trade Value of Avocado Exports."
   ]
  },
  {
   "cell_type": "code",
   "execution_count": 30,
   "id": "271103bf",
   "metadata": {},
   "outputs": [
    {
     "data": {
      "application/vnd.plotly.v1+json": {
       "config": {
        "plotlyServerURL": "https://plot.ly"
       },
       "data": [
        {
         "hovertemplate": "partner= World<br>Quantity (Tonnes)=%{x}<br>Trade Value (1,000 USD)=%{y}<extra></extra>",
         "legendgroup": " World",
         "marker": {
          "color": "#636efa",
          "symbol": "circle"
         },
         "mode": "markers",
         "name": " World",
         "orientation": "v",
         "showlegend": true,
         "type": "scatter",
         "x": [
          122581000
         ],
         "xaxis": "x",
         "y": [
          140939.93
         ],
         "yaxis": "y"
        },
        {
         "hovertemplate": "partner=Netherlands<br>Quantity (Tonnes)=%{x}<br>Trade Value (1,000 USD)=%{y}<extra></extra>",
         "legendgroup": "Netherlands",
         "marker": {
          "color": "#EF553B",
          "symbol": "circle"
         },
         "mode": "markers",
         "name": "Netherlands",
         "orientation": "v",
         "showlegend": true,
         "type": "scatter",
         "x": [
          37450800
         ],
         "xaxis": "x",
         "y": [
          42104.41
         ],
         "yaxis": "y"
        },
        {
         "hovertemplate": "partner=United Arab Emirates<br>Quantity (Tonnes)=%{x}<br>Trade Value (1,000 USD)=%{y}<extra></extra>",
         "legendgroup": "United Arab Emirates",
         "marker": {
          "color": "#00cc96",
          "symbol": "circle"
         },
         "mode": "markers",
         "name": "United Arab Emirates",
         "orientation": "v",
         "showlegend": true,
         "type": "scatter",
         "x": [
          15931400
         ],
         "xaxis": "x",
         "y": [
          19235.41
         ],
         "yaxis": "y"
        },
        {
         "hovertemplate": "partner=France<br>Quantity (Tonnes)=%{x}<br>Trade Value (1,000 USD)=%{y}<extra></extra>",
         "legendgroup": "France",
         "marker": {
          "color": "#ab63fa",
          "symbol": "circle"
         },
         "mode": "markers",
         "name": "France",
         "orientation": "v",
         "showlegend": true,
         "type": "scatter",
         "x": [
          12117200
         ],
         "xaxis": "x",
         "y": [
          14672.57
         ],
         "yaxis": "y"
        },
        {
         "hovertemplate": "partner=Spain<br>Quantity (Tonnes)=%{x}<br>Trade Value (1,000 USD)=%{y}<extra></extra>",
         "legendgroup": "Spain",
         "marker": {
          "color": "#FFA15A",
          "symbol": "circle"
         },
         "mode": "markers",
         "name": "Spain",
         "orientation": "v",
         "showlegend": true,
         "type": "scatter",
         "x": [
          11372500
         ],
         "xaxis": "x",
         "y": [
          13442.72
         ],
         "yaxis": "y"
        },
        {
         "hovertemplate": "partner=Turkey<br>Quantity (Tonnes)=%{x}<br>Trade Value (1,000 USD)=%{y}<extra></extra>",
         "legendgroup": "Turkey",
         "marker": {
          "color": "#19d3f3",
          "symbol": "circle"
         },
         "mode": "markers",
         "name": "Turkey",
         "orientation": "v",
         "showlegend": true,
         "type": "scatter",
         "x": [
          11276300
         ],
         "xaxis": "x",
         "y": [
          10687
         ],
         "yaxis": "y"
        },
        {
         "hovertemplate": "partner=Germany<br>Quantity (Tonnes)=%{x}<br>Trade Value (1,000 USD)=%{y}<extra></extra>",
         "legendgroup": "Germany",
         "marker": {
          "color": "#FF6692",
          "symbol": "circle"
         },
         "mode": "markers",
         "name": "Germany",
         "orientation": "v",
         "showlegend": true,
         "type": "scatter",
         "x": [
          8291730
         ],
         "xaxis": "x",
         "y": [
          8600.42
         ],
         "yaxis": "y"
        },
        {
         "hovertemplate": "partner=China<br>Quantity (Tonnes)=%{x}<br>Trade Value (1,000 USD)=%{y}<extra></extra>",
         "legendgroup": "China",
         "marker": {
          "color": "#B6E880",
          "symbol": "circle"
         },
         "mode": "markers",
         "name": "China",
         "orientation": "v",
         "showlegend": true,
         "type": "scatter",
         "x": [
          4966680
         ],
         "xaxis": "x",
         "y": [
          8024.08
         ],
         "yaxis": "y"
        },
        {
         "hovertemplate": "partner=Saudi Arabia<br>Quantity (Tonnes)=%{x}<br>Trade Value (1,000 USD)=%{y}<extra></extra>",
         "legendgroup": "Saudi Arabia",
         "marker": {
          "color": "#FF97FF",
          "symbol": "circle"
         },
         "mode": "markers",
         "name": "Saudi Arabia",
         "orientation": "v",
         "showlegend": true,
         "type": "scatter",
         "x": [
          6681410
         ],
         "xaxis": "x",
         "y": [
          7646.62
         ],
         "yaxis": "y"
        },
        {
         "hovertemplate": "partner=United Kingdom<br>Quantity (Tonnes)=%{x}<br>Trade Value (1,000 USD)=%{y}<extra></extra>",
         "legendgroup": "United Kingdom",
         "marker": {
          "color": "#FECB52",
          "symbol": "circle"
         },
         "mode": "markers",
         "name": "United Kingdom",
         "orientation": "v",
         "showlegend": true,
         "type": "scatter",
         "x": [
          2879500
         ],
         "xaxis": "x",
         "y": [
          2938.82
         ],
         "yaxis": "y"
        },
        {
         "hovertemplate": "partner=Egypt, Arab Rep.<br>Quantity (Tonnes)=%{x}<br>Trade Value (1,000 USD)=%{y}<extra></extra>",
         "legendgroup": "Egypt, Arab Rep.",
         "marker": {
          "color": "#636efa",
          "symbol": "circle"
         },
         "mode": "markers",
         "name": "Egypt, Arab Rep.",
         "orientation": "v",
         "showlegend": true,
         "type": "scatter",
         "x": [
          3101890
         ],
         "xaxis": "x",
         "y": [
          2762.25
         ],
         "yaxis": "y"
        },
        {
         "hovertemplate": "partner=Jordan<br>Quantity (Tonnes)=%{x}<br>Trade Value (1,000 USD)=%{y}<extra></extra>",
         "legendgroup": "Jordan",
         "marker": {
          "color": "#EF553B",
          "symbol": "circle"
         },
         "mode": "markers",
         "name": "Jordan",
         "orientation": "v",
         "showlegend": true,
         "type": "scatter",
         "x": [
          1363600
         ],
         "xaxis": "x",
         "y": [
          1426.16
         ],
         "yaxis": "y"
        },
        {
         "hovertemplate": "partner=Romania<br>Quantity (Tonnes)=%{x}<br>Trade Value (1,000 USD)=%{y}<extra></extra>",
         "legendgroup": "Romania",
         "marker": {
          "color": "#00cc96",
          "symbol": "circle"
         },
         "mode": "markers",
         "name": "Romania",
         "orientation": "v",
         "showlegend": true,
         "type": "scatter",
         "x": [
          1025520
         ],
         "xaxis": "x",
         "y": [
          1374.62
         ],
         "yaxis": "y"
        },
        {
         "hovertemplate": "partner=Kuwait<br>Quantity (Tonnes)=%{x}<br>Trade Value (1,000 USD)=%{y}<extra></extra>",
         "legendgroup": "Kuwait",
         "marker": {
          "color": "#ab63fa",
          "symbol": "circle"
         },
         "mode": "markers",
         "name": "Kuwait",
         "orientation": "v",
         "showlegend": true,
         "type": "scatter",
         "x": [
          291476
         ],
         "xaxis": "x",
         "y": [
          728.67
         ],
         "yaxis": "y"
        },
        {
         "hovertemplate": "partner=Greece<br>Quantity (Tonnes)=%{x}<br>Trade Value (1,000 USD)=%{y}<extra></extra>",
         "legendgroup": "Greece",
         "marker": {
          "color": "#FFA15A",
          "symbol": "circle"
         },
         "mode": "markers",
         "name": "Greece",
         "orientation": "v",
         "showlegend": true,
         "type": "scatter",
         "x": [
          515452
         ],
         "xaxis": "x",
         "y": [
          712.41
         ],
         "yaxis": "y"
        },
        {
         "hovertemplate": "partner=Malaysia<br>Quantity (Tonnes)=%{x}<br>Trade Value (1,000 USD)=%{y}<extra></extra>",
         "legendgroup": "Malaysia",
         "marker": {
          "color": "#19d3f3",
          "symbol": "circle"
         },
         "mode": "markers",
         "name": "Malaysia",
         "orientation": "v",
         "showlegend": true,
         "type": "scatter",
         "x": [
          368583
         ],
         "xaxis": "x",
         "y": [
          627.49
         ],
         "yaxis": "y"
        },
        {
         "hovertemplate": "partner=Italy<br>Quantity (Tonnes)=%{x}<br>Trade Value (1,000 USD)=%{y}<extra></extra>",
         "legendgroup": "Italy",
         "marker": {
          "color": "#FF6692",
          "symbol": "circle"
         },
         "mode": "markers",
         "name": "Italy",
         "orientation": "v",
         "showlegend": true,
         "type": "scatter",
         "x": [
          459966
         ],
         "xaxis": "x",
         "y": [
          581.84
         ],
         "yaxis": "y"
        },
        {
         "hovertemplate": "partner=Russian Federation<br>Quantity (Tonnes)=%{x}<br>Trade Value (1,000 USD)=%{y}<extra></extra>",
         "legendgroup": "Russian Federation",
         "marker": {
          "color": "#B6E880",
          "symbol": "circle"
         },
         "mode": "markers",
         "name": "Russian Federation",
         "orientation": "v",
         "showlegend": true,
         "type": "scatter",
         "x": [
          490156
         ],
         "xaxis": "x",
         "y": [
          517.05
         ],
         "yaxis": "y"
        },
        {
         "hovertemplate": "partner=Qatar<br>Quantity (Tonnes)=%{x}<br>Trade Value (1,000 USD)=%{y}<extra></extra>",
         "legendgroup": "Qatar",
         "marker": {
          "color": "#FF97FF",
          "symbol": "circle"
         },
         "mode": "markers",
         "name": "Qatar",
         "orientation": "v",
         "showlegend": true,
         "type": "scatter",
         "x": [
          269866
         ],
         "xaxis": "x",
         "y": [
          508.22
         ],
         "yaxis": "y"
        },
        {
         "hovertemplate": "partner=Libya<br>Quantity (Tonnes)=%{x}<br>Trade Value (1,000 USD)=%{y}<extra></extra>",
         "legendgroup": "Libya",
         "marker": {
          "color": "#FECB52",
          "symbol": "circle"
         },
         "mode": "markers",
         "name": "Libya",
         "orientation": "v",
         "showlegend": true,
         "type": "scatter",
         "x": [
          456199
         ],
         "xaxis": "x",
         "y": [
          427.06
         ],
         "yaxis": "y"
        },
        {
         "hovertemplate": "partner=Singapore<br>Quantity (Tonnes)=%{x}<br>Trade Value (1,000 USD)=%{y}<extra></extra>",
         "legendgroup": "Singapore",
         "marker": {
          "color": "#636efa",
          "symbol": "circle"
         },
         "mode": "markers",
         "name": "Singapore",
         "orientation": "v",
         "showlegend": true,
         "type": "scatter",
         "x": [
          293942
         ],
         "xaxis": "x",
         "y": [
          406.8
         ],
         "yaxis": "y"
        },
        {
         "hovertemplate": "partner=Iraq<br>Quantity (Tonnes)=%{x}<br>Trade Value (1,000 USD)=%{y}<extra></extra>",
         "legendgroup": "Iraq",
         "marker": {
          "color": "#EF553B",
          "symbol": "circle"
         },
         "mode": "markers",
         "name": "Iraq",
         "orientation": "v",
         "showlegend": true,
         "type": "scatter",
         "x": [
          302904
         ],
         "xaxis": "x",
         "y": [
          336.4
         ],
         "yaxis": "y"
        },
        {
         "hovertemplate": "partner=Poland<br>Quantity (Tonnes)=%{x}<br>Trade Value (1,000 USD)=%{y}<extra></extra>",
         "legendgroup": "Poland",
         "marker": {
          "color": "#00cc96",
          "symbol": "circle"
         },
         "mode": "markers",
         "name": "Poland",
         "orientation": "v",
         "showlegend": true,
         "type": "scatter",
         "x": [
          316340
         ],
         "xaxis": "x",
         "y": [
          333.91
         ],
         "yaxis": "y"
        },
        {
         "hovertemplate": "partner=Oman<br>Quantity (Tonnes)=%{x}<br>Trade Value (1,000 USD)=%{y}<extra></extra>",
         "legendgroup": "Oman",
         "marker": {
          "color": "#ab63fa",
          "symbol": "circle"
         },
         "mode": "markers",
         "name": "Oman",
         "orientation": "v",
         "showlegend": true,
         "type": "scatter",
         "x": [
          281998
         ],
         "xaxis": "x",
         "y": [
          328.59
         ],
         "yaxis": "y"
        },
        {
         "hovertemplate": "partner=Bahrain<br>Quantity (Tonnes)=%{x}<br>Trade Value (1,000 USD)=%{y}<extra></extra>",
         "legendgroup": "Bahrain",
         "marker": {
          "color": "#FFA15A",
          "symbol": "circle"
         },
         "mode": "markers",
         "name": "Bahrain",
         "orientation": "v",
         "showlegend": true,
         "type": "scatter",
         "x": [
          122432
         ],
         "xaxis": "x",
         "y": [
          303.59
         ],
         "yaxis": "y"
        },
        {
         "hovertemplate": "partner=Canada<br>Quantity (Tonnes)=%{x}<br>Trade Value (1,000 USD)=%{y}<extra></extra>",
         "legendgroup": "Canada",
         "marker": {
          "color": "#19d3f3",
          "symbol": "circle"
         },
         "mode": "markers",
         "name": "Canada",
         "orientation": "v",
         "showlegend": true,
         "type": "scatter",
         "x": [
          181770
         ],
         "xaxis": "x",
         "y": [
          290.87
         ],
         "yaxis": "y"
        },
        {
         "hovertemplate": "partner=India<br>Quantity (Tonnes)=%{x}<br>Trade Value (1,000 USD)=%{y}<extra></extra>",
         "legendgroup": "India",
         "marker": {
          "color": "#FF6692",
          "symbol": "circle"
         },
         "mode": "markers",
         "name": "India",
         "orientation": "v",
         "showlegend": true,
         "type": "scatter",
         "x": [
          188091
         ],
         "xaxis": "x",
         "y": [
          283.41
         ],
         "yaxis": "y"
        },
        {
         "hovertemplate": "partner=Switzerland<br>Quantity (Tonnes)=%{x}<br>Trade Value (1,000 USD)=%{y}<extra></extra>",
         "legendgroup": "Switzerland",
         "marker": {
          "color": "#B6E880",
          "symbol": "circle"
         },
         "mode": "markers",
         "name": "Switzerland",
         "orientation": "v",
         "showlegend": true,
         "type": "scatter",
         "x": [
          256953
         ],
         "xaxis": "x",
         "y": [
          276.58
         ],
         "yaxis": "y"
        },
        {
         "hovertemplate": "partner=Morocco<br>Quantity (Tonnes)=%{x}<br>Trade Value (1,000 USD)=%{y}<extra></extra>",
         "legendgroup": "Morocco",
         "marker": {
          "color": "#FF97FF",
          "symbol": "circle"
         },
         "mode": "markers",
         "name": "Morocco",
         "orientation": "v",
         "showlegend": true,
         "type": "scatter",
         "x": [
          231240
         ],
         "xaxis": "x",
         "y": [
          219.92
         ],
         "yaxis": "y"
        },
        {
         "hovertemplate": "partner=Ukraine<br>Quantity (Tonnes)=%{x}<br>Trade Value (1,000 USD)=%{y}<extra></extra>",
         "legendgroup": "Ukraine",
         "marker": {
          "color": "#FECB52",
          "symbol": "circle"
         },
         "mode": "markers",
         "name": "Ukraine",
         "orientation": "v",
         "showlegend": true,
         "type": "scatter",
         "x": [
          205280
         ],
         "xaxis": "x",
         "y": [
          196.04
         ],
         "yaxis": "y"
        },
        {
         "hovertemplate": "partner=Hong Kong, China<br>Quantity (Tonnes)=%{x}<br>Trade Value (1,000 USD)=%{y}<extra></extra>",
         "legendgroup": "Hong Kong, China",
         "marker": {
          "color": "#636efa",
          "symbol": "circle"
         },
         "mode": "markers",
         "name": "Hong Kong, China",
         "orientation": "v",
         "showlegend": true,
         "type": "scatter",
         "x": [
          107076
         ],
         "xaxis": "x",
         "y": [
          182.45
         ],
         "yaxis": "y"
        },
        {
         "hovertemplate": "partner=Lithuania<br>Quantity (Tonnes)=%{x}<br>Trade Value (1,000 USD)=%{y}<extra></extra>",
         "legendgroup": "Lithuania",
         "marker": {
          "color": "#EF553B",
          "symbol": "circle"
         },
         "mode": "markers",
         "name": "Lithuania",
         "orientation": "v",
         "showlegend": true,
         "type": "scatter",
         "x": [
          94088
         ],
         "xaxis": "x",
         "y": [
          151.5
         ],
         "yaxis": "y"
        },
        {
         "hovertemplate": "partner=Tunisia<br>Quantity (Tonnes)=%{x}<br>Trade Value (1,000 USD)=%{y}<extra></extra>",
         "legendgroup": "Tunisia",
         "marker": {
          "color": "#00cc96",
          "symbol": "circle"
         },
         "mode": "markers",
         "name": "Tunisia",
         "orientation": "v",
         "showlegend": true,
         "type": "scatter",
         "x": [
          64830
         ],
         "xaxis": "x",
         "y": [
          91.95
         ],
         "yaxis": "y"
        },
        {
         "hovertemplate": "partner=Belgium<br>Quantity (Tonnes)=%{x}<br>Trade Value (1,000 USD)=%{y}<extra></extra>",
         "legendgroup": "Belgium",
         "marker": {
          "color": "#ab63fa",
          "symbol": "circle"
         },
         "mode": "markers",
         "name": "Belgium",
         "orientation": "v",
         "showlegend": true,
         "type": "scatter",
         "x": [
          96576
         ],
         "xaxis": "x",
         "y": [
          69.31
         ],
         "yaxis": "y"
        },
        {
         "hovertemplate": "partner=Unspecified<br>Quantity (Tonnes)=%{x}<br>Trade Value (1,000 USD)=%{y}<extra></extra>",
         "legendgroup": "Unspecified",
         "marker": {
          "color": "#FFA15A",
          "symbol": "circle"
         },
         "mode": "markers",
         "name": "Unspecified",
         "orientation": "v",
         "showlegend": true,
         "type": "scatter",
         "x": [
          49677.5
         ],
         "xaxis": "x",
         "y": [
          54.11
         ],
         "yaxis": "y"
        },
        {
         "hovertemplate": "partner=Tanzania<br>Quantity (Tonnes)=%{x}<br>Trade Value (1,000 USD)=%{y}<extra></extra>",
         "legendgroup": "Tanzania",
         "marker": {
          "color": "#19d3f3",
          "symbol": "circle"
         },
         "mode": "markers",
         "name": "Tanzania",
         "orientation": "v",
         "showlegend": true,
         "type": "scatter",
         "x": [
          150000
         ],
         "xaxis": "x",
         "y": [
          53.52
         ],
         "yaxis": "y"
        },
        {
         "hovertemplate": "partner=South Africa<br>Quantity (Tonnes)=%{x}<br>Trade Value (1,000 USD)=%{y}<extra></extra>",
         "legendgroup": "South Africa",
         "marker": {
          "color": "#FF6692",
          "symbol": "circle"
         },
         "mode": "markers",
         "name": "South Africa",
         "orientation": "v",
         "showlegend": true,
         "type": "scatter",
         "x": [
          48319
         ],
         "xaxis": "x",
         "y": [
          53.12
         ],
         "yaxis": "y"
        },
        {
         "hovertemplate": "partner=Brunei<br>Quantity (Tonnes)=%{x}<br>Trade Value (1,000 USD)=%{y}<extra></extra>",
         "legendgroup": "Brunei",
         "marker": {
          "color": "#B6E880",
          "symbol": "circle"
         },
         "mode": "markers",
         "name": "Brunei",
         "orientation": "v",
         "showlegend": true,
         "type": "scatter",
         "x": [
          20600
         ],
         "xaxis": "x",
         "y": [
          40.81
         ],
         "yaxis": "y"
        },
        {
         "hovertemplate": "partner=Denmark<br>Quantity (Tonnes)=%{x}<br>Trade Value (1,000 USD)=%{y}<extra></extra>",
         "legendgroup": "Denmark",
         "marker": {
          "color": "#FF97FF",
          "symbol": "circle"
         },
         "mode": "markers",
         "name": "Denmark",
         "orientation": "v",
         "showlegend": true,
         "type": "scatter",
         "x": [
          23040
         ],
         "xaxis": "x",
         "y": [
          36.03
         ],
         "yaxis": "y"
        },
        {
         "hovertemplate": "partner=Portugal<br>Quantity (Tonnes)=%{x}<br>Trade Value (1,000 USD)=%{y}<extra></extra>",
         "legendgroup": "Portugal",
         "marker": {
          "color": "#FECB52",
          "symbol": "circle"
         },
         "mode": "markers",
         "name": "Portugal",
         "orientation": "v",
         "showlegend": true,
         "type": "scatter",
         "x": [
          21408
         ],
         "xaxis": "x",
         "y": [
          36.01
         ],
         "yaxis": "y"
        },
        {
         "hovertemplate": "partner=Georgia<br>Quantity (Tonnes)=%{x}<br>Trade Value (1,000 USD)=%{y}<extra></extra>",
         "legendgroup": "Georgia",
         "marker": {
          "color": "#636efa",
          "symbol": "circle"
         },
         "mode": "markers",
         "name": "Georgia",
         "orientation": "v",
         "showlegend": true,
         "type": "scatter",
         "x": [
          48000
         ],
         "xaxis": "x",
         "y": [
          33.56
         ],
         "yaxis": "y"
        },
        {
         "hovertemplate": "partner=Lebanon<br>Quantity (Tonnes)=%{x}<br>Trade Value (1,000 USD)=%{y}<extra></extra>",
         "legendgroup": "Lebanon",
         "marker": {
          "color": "#EF553B",
          "symbol": "circle"
         },
         "mode": "markers",
         "name": "Lebanon",
         "orientation": "v",
         "showlegend": true,
         "type": "scatter",
         "x": [
          24000
         ],
         "xaxis": "x",
         "y": [
          33.35
         ],
         "yaxis": "y"
        },
        {
         "hovertemplate": "partner=Serbia, FR(Serbia/Montenegro)<br>Quantity (Tonnes)=%{x}<br>Trade Value (1,000 USD)=%{y}<extra></extra>",
         "legendgroup": "Serbia, FR(Serbia/Montenegro)",
         "marker": {
          "color": "#00cc96",
          "symbol": "circle"
         },
         "mode": "markers",
         "name": "Serbia, FR(Serbia/Montenegro)",
         "orientation": "v",
         "showlegend": true,
         "type": "scatter",
         "x": [
          23040
         ],
         "xaxis": "x",
         "y": [
          31.7
         ],
         "yaxis": "y"
        },
        {
         "hovertemplate": "partner=Eswatini<br>Quantity (Tonnes)=%{x}<br>Trade Value (1,000 USD)=%{y}<extra></extra>",
         "legendgroup": "Eswatini",
         "marker": {
          "color": "#ab63fa",
          "symbol": "circle"
         },
         "mode": "markers",
         "name": "Eswatini",
         "orientation": "v",
         "showlegend": true,
         "type": "scatter",
         "x": [
          7632
         ],
         "xaxis": "x",
         "y": [
          17.01
         ],
         "yaxis": "y"
        },
        {
         "hovertemplate": "partner=Afghanistan<br>Quantity (Tonnes)=%{x}<br>Trade Value (1,000 USD)=%{y}<extra></extra>",
         "legendgroup": "Afghanistan",
         "marker": {
          "color": "#FFA15A",
          "symbol": "circle"
         },
         "mode": "markers",
         "name": "Afghanistan",
         "orientation": "v",
         "showlegend": true,
         "type": "scatter",
         "x": [
          6160
         ],
         "xaxis": "x",
         "y": [
          13.69
         ],
         "yaxis": "y"
        },
        {
         "hovertemplate": "partner=United States<br>Quantity (Tonnes)=%{x}<br>Trade Value (1,000 USD)=%{y}<extra></extra>",
         "legendgroup": "United States",
         "marker": {
          "color": "#19d3f3",
          "symbol": "circle"
         },
         "mode": "markers",
         "name": "United States",
         "orientation": "v",
         "showlegend": true,
         "type": "scatter",
         "x": [
          11239
         ],
         "xaxis": "x",
         "y": [
          13.06
         ],
         "yaxis": "y"
        },
        {
         "hovertemplate": "partner=Uganda<br>Quantity (Tonnes)=%{x}<br>Trade Value (1,000 USD)=%{y}<extra></extra>",
         "legendgroup": "Uganda",
         "marker": {
          "color": "#FF6692",
          "symbol": "circle"
         },
         "mode": "markers",
         "name": "Uganda",
         "orientation": "v",
         "showlegend": true,
         "type": "scatter",
         "x": [
          80000
         ],
         "xaxis": "x",
         "y": [
          9.59
         ],
         "yaxis": "y"
        },
        {
         "hovertemplate": "partner=Kazakhstan<br>Quantity (Tonnes)=%{x}<br>Trade Value (1,000 USD)=%{y}<extra></extra>",
         "legendgroup": "Kazakhstan",
         "marker": {
          "color": "#B6E880",
          "symbol": "circle"
         },
         "mode": "markers",
         "name": "Kazakhstan",
         "orientation": "v",
         "showlegend": true,
         "type": "scatter",
         "x": [
          2514
         ],
         "xaxis": "x",
         "y": [
          6.24
         ],
         "yaxis": "y"
        },
        {
         "hovertemplate": "partner=Nepal<br>Quantity (Tonnes)=%{x}<br>Trade Value (1,000 USD)=%{y}<extra></extra>",
         "legendgroup": "Nepal",
         "marker": {
          "color": "#FF97FF",
          "symbol": "circle"
         },
         "mode": "markers",
         "name": "Nepal",
         "orientation": "v",
         "showlegend": true,
         "type": "scatter",
         "x": [
          4050
         ],
         "xaxis": "x",
         "y": [
          5.93
         ],
         "yaxis": "y"
        },
        {
         "hovertemplate": "partner=Norway<br>Quantity (Tonnes)=%{x}<br>Trade Value (1,000 USD)=%{y}<extra></extra>",
         "legendgroup": "Norway",
         "marker": {
          "color": "#FECB52",
          "symbol": "circle"
         },
         "mode": "markers",
         "name": "Norway",
         "orientation": "v",
         "showlegend": true,
         "type": "scatter",
         "x": [
          1236.08
         ],
         "xaxis": "x",
         "y": [
          5.16
         ],
         "yaxis": "y"
        },
        {
         "hovertemplate": "partner=Somalia<br>Quantity (Tonnes)=%{x}<br>Trade Value (1,000 USD)=%{y}<extra></extra>",
         "legendgroup": "Somalia",
         "marker": {
          "color": "#636efa",
          "symbol": "circle"
         },
         "mode": "markers",
         "name": "Somalia",
         "orientation": "v",
         "showlegend": true,
         "type": "scatter",
         "x": [
          2409.5
         ],
         "xaxis": "x",
         "y": [
          3.64
         ],
         "yaxis": "y"
        },
        {
         "hovertemplate": "partner=Congo, Rep.<br>Quantity (Tonnes)=%{x}<br>Trade Value (1,000 USD)=%{y}<extra></extra>",
         "legendgroup": "Congo, Rep.",
         "marker": {
          "color": "#EF553B",
          "symbol": "circle"
         },
         "mode": "markers",
         "name": "Congo, Rep.",
         "orientation": "v",
         "showlegend": true,
         "type": "scatter",
         "x": [
          380
         ],
         "xaxis": "x",
         "y": [
          1.29
         ],
         "yaxis": "y"
        },
        {
         "hovertemplate": "partner=Zimbabwe<br>Quantity (Tonnes)=%{x}<br>Trade Value (1,000 USD)=%{y}<extra></extra>",
         "legendgroup": "Zimbabwe",
         "marker": {
          "color": "#00cc96",
          "symbol": "circle"
         },
         "mode": "markers",
         "name": "Zimbabwe",
         "orientation": "v",
         "showlegend": true,
         "type": "scatter",
         "x": [
          50
         ],
         "xaxis": "x",
         "y": [
          0.88
         ],
         "yaxis": "y"
        },
        {
         "hovertemplate": "partner=Ghana<br>Quantity (Tonnes)=%{x}<br>Trade Value (1,000 USD)=%{y}<extra></extra>",
         "legendgroup": "Ghana",
         "marker": {
          "color": "#ab63fa",
          "symbol": "circle"
         },
         "mode": "markers",
         "name": "Ghana",
         "orientation": "v",
         "showlegend": true,
         "type": "scatter",
         "x": [
          2000
         ],
         "xaxis": "x",
         "y": [
          0.51
         ],
         "yaxis": "y"
        },
        {
         "hovertemplate": "partner=Seychelles<br>Quantity (Tonnes)=%{x}<br>Trade Value (1,000 USD)=%{y}<extra></extra>",
         "legendgroup": "Seychelles",
         "marker": {
          "color": "#FFA15A",
          "symbol": "circle"
         },
         "mode": "markers",
         "name": "Seychelles",
         "orientation": "v",
         "showlegend": true,
         "type": "scatter",
         "x": [
          126
         ],
         "xaxis": "x",
         "y": [
          0.46
         ],
         "yaxis": "y"
        },
        {
         "hovertemplate": "partner=Maldives<br>Quantity (Tonnes)=%{x}<br>Trade Value (1,000 USD)=%{y}<extra></extra>",
         "legendgroup": "Maldives",
         "marker": {
          "color": "#19d3f3",
          "symbol": "circle"
         },
         "mode": "markers",
         "name": "Maldives",
         "orientation": "v",
         "showlegend": true,
         "type": "scatter",
         "x": [
          473
         ],
         "xaxis": "x",
         "y": [
          0.32
         ],
         "yaxis": "y"
        },
        {
         "hovertemplate": "partner=Sweden<br>Quantity (Tonnes)=%{x}<br>Trade Value (1,000 USD)=%{y}<extra></extra>",
         "legendgroup": "Sweden",
         "marker": {
          "color": "#FF6692",
          "symbol": "circle"
         },
         "mode": "markers",
         "name": "Sweden",
         "orientation": "v",
         "showlegend": true,
         "type": "scatter",
         "x": [
          224
         ],
         "xaxis": "x",
         "y": [
          0.28
         ],
         "yaxis": "y"
        },
        {
         "hovertemplate": "partner=Argentina<br>Quantity (Tonnes)=%{x}<br>Trade Value (1,000 USD)=%{y}<extra></extra>",
         "legendgroup": "Argentina",
         "marker": {
          "color": "#B6E880",
          "symbol": "circle"
         },
         "mode": "markers",
         "name": "Argentina",
         "orientation": "v",
         "showlegend": true,
         "type": "scatter",
         "x": [
          460
         ],
         "xaxis": "x",
         "y": [
          0.24
         ],
         "yaxis": "y"
        },
        {
         "hovertemplate": "partner=Bunkers<br>Quantity (Tonnes)=%{x}<br>Trade Value (1,000 USD)=%{y}<extra></extra>",
         "legendgroup": "Bunkers",
         "marker": {
          "color": "#FF97FF",
          "symbol": "circle"
         },
         "mode": "markers",
         "name": "Bunkers",
         "orientation": "v",
         "showlegend": true,
         "type": "scatter",
         "x": [
          124
         ],
         "xaxis": "x",
         "y": [
          0.2
         ],
         "yaxis": "y"
        },
        {
         "hovertemplate": "partner=Rwanda<br>Quantity (Tonnes)=%{x}<br>Trade Value (1,000 USD)=%{y}<extra></extra>",
         "legendgroup": "Rwanda",
         "marker": {
          "color": "#FECB52",
          "symbol": "circle"
         },
         "mode": "markers",
         "name": "Rwanda",
         "orientation": "v",
         "showlegend": true,
         "type": "scatter",
         "x": [
          43
         ],
         "xaxis": "x",
         "y": [
          0.04
         ],
         "yaxis": "y"
        },
        {
         "hovertemplate": "partner=Macao<br>Quantity (Tonnes)=%{x}<br>Trade Value (1,000 USD)=%{y}<extra></extra>",
         "legendgroup": "Macao",
         "marker": {
          "color": "#636efa",
          "symbol": "circle"
         },
         "mode": "markers",
         "name": "Macao",
         "orientation": "v",
         "showlegend": true,
         "type": "scatter",
         "x": [
          9
         ],
         "xaxis": "x",
         "y": [
          0.02
         ],
         "yaxis": "y"
        },
        {
         "hovertemplate": "partner=Ireland<br>Quantity (Tonnes)=%{x}<br>Trade Value (1,000 USD)=%{y}<extra></extra>",
         "legendgroup": "Ireland",
         "marker": {
          "color": "#EF553B",
          "symbol": "circle"
         },
         "mode": "markers",
         "name": "Ireland",
         "orientation": "v",
         "showlegend": true,
         "type": "scatter",
         "x": [
          9
         ],
         "xaxis": "x",
         "y": [
          0
         ],
         "yaxis": "y"
        }
       ],
       "layout": {
        "legend": {
         "title": {
          "text": "partner"
         },
         "tracegroupgap": 0
        },
        "template": {
         "data": {
          "bar": [
           {
            "error_x": {
             "color": "#2a3f5f"
            },
            "error_y": {
             "color": "#2a3f5f"
            },
            "marker": {
             "line": {
              "color": "#E5ECF6",
              "width": 0.5
             },
             "pattern": {
              "fillmode": "overlay",
              "size": 10,
              "solidity": 0.2
             }
            },
            "type": "bar"
           }
          ],
          "barpolar": [
           {
            "marker": {
             "line": {
              "color": "#E5ECF6",
              "width": 0.5
             },
             "pattern": {
              "fillmode": "overlay",
              "size": 10,
              "solidity": 0.2
             }
            },
            "type": "barpolar"
           }
          ],
          "carpet": [
           {
            "aaxis": {
             "endlinecolor": "#2a3f5f",
             "gridcolor": "white",
             "linecolor": "white",
             "minorgridcolor": "white",
             "startlinecolor": "#2a3f5f"
            },
            "baxis": {
             "endlinecolor": "#2a3f5f",
             "gridcolor": "white",
             "linecolor": "white",
             "minorgridcolor": "white",
             "startlinecolor": "#2a3f5f"
            },
            "type": "carpet"
           }
          ],
          "choropleth": [
           {
            "colorbar": {
             "outlinewidth": 0,
             "ticks": ""
            },
            "type": "choropleth"
           }
          ],
          "contour": [
           {
            "colorbar": {
             "outlinewidth": 0,
             "ticks": ""
            },
            "colorscale": [
             [
              0,
              "#0d0887"
             ],
             [
              0.1111111111111111,
              "#46039f"
             ],
             [
              0.2222222222222222,
              "#7201a8"
             ],
             [
              0.3333333333333333,
              "#9c179e"
             ],
             [
              0.4444444444444444,
              "#bd3786"
             ],
             [
              0.5555555555555556,
              "#d8576b"
             ],
             [
              0.6666666666666666,
              "#ed7953"
             ],
             [
              0.7777777777777778,
              "#fb9f3a"
             ],
             [
              0.8888888888888888,
              "#fdca26"
             ],
             [
              1,
              "#f0f921"
             ]
            ],
            "type": "contour"
           }
          ],
          "contourcarpet": [
           {
            "colorbar": {
             "outlinewidth": 0,
             "ticks": ""
            },
            "type": "contourcarpet"
           }
          ],
          "heatmap": [
           {
            "colorbar": {
             "outlinewidth": 0,
             "ticks": ""
            },
            "colorscale": [
             [
              0,
              "#0d0887"
             ],
             [
              0.1111111111111111,
              "#46039f"
             ],
             [
              0.2222222222222222,
              "#7201a8"
             ],
             [
              0.3333333333333333,
              "#9c179e"
             ],
             [
              0.4444444444444444,
              "#bd3786"
             ],
             [
              0.5555555555555556,
              "#d8576b"
             ],
             [
              0.6666666666666666,
              "#ed7953"
             ],
             [
              0.7777777777777778,
              "#fb9f3a"
             ],
             [
              0.8888888888888888,
              "#fdca26"
             ],
             [
              1,
              "#f0f921"
             ]
            ],
            "type": "heatmap"
           }
          ],
          "heatmapgl": [
           {
            "colorbar": {
             "outlinewidth": 0,
             "ticks": ""
            },
            "colorscale": [
             [
              0,
              "#0d0887"
             ],
             [
              0.1111111111111111,
              "#46039f"
             ],
             [
              0.2222222222222222,
              "#7201a8"
             ],
             [
              0.3333333333333333,
              "#9c179e"
             ],
             [
              0.4444444444444444,
              "#bd3786"
             ],
             [
              0.5555555555555556,
              "#d8576b"
             ],
             [
              0.6666666666666666,
              "#ed7953"
             ],
             [
              0.7777777777777778,
              "#fb9f3a"
             ],
             [
              0.8888888888888888,
              "#fdca26"
             ],
             [
              1,
              "#f0f921"
             ]
            ],
            "type": "heatmapgl"
           }
          ],
          "histogram": [
           {
            "marker": {
             "pattern": {
              "fillmode": "overlay",
              "size": 10,
              "solidity": 0.2
             }
            },
            "type": "histogram"
           }
          ],
          "histogram2d": [
           {
            "colorbar": {
             "outlinewidth": 0,
             "ticks": ""
            },
            "colorscale": [
             [
              0,
              "#0d0887"
             ],
             [
              0.1111111111111111,
              "#46039f"
             ],
             [
              0.2222222222222222,
              "#7201a8"
             ],
             [
              0.3333333333333333,
              "#9c179e"
             ],
             [
              0.4444444444444444,
              "#bd3786"
             ],
             [
              0.5555555555555556,
              "#d8576b"
             ],
             [
              0.6666666666666666,
              "#ed7953"
             ],
             [
              0.7777777777777778,
              "#fb9f3a"
             ],
             [
              0.8888888888888888,
              "#fdca26"
             ],
             [
              1,
              "#f0f921"
             ]
            ],
            "type": "histogram2d"
           }
          ],
          "histogram2dcontour": [
           {
            "colorbar": {
             "outlinewidth": 0,
             "ticks": ""
            },
            "colorscale": [
             [
              0,
              "#0d0887"
             ],
             [
              0.1111111111111111,
              "#46039f"
             ],
             [
              0.2222222222222222,
              "#7201a8"
             ],
             [
              0.3333333333333333,
              "#9c179e"
             ],
             [
              0.4444444444444444,
              "#bd3786"
             ],
             [
              0.5555555555555556,
              "#d8576b"
             ],
             [
              0.6666666666666666,
              "#ed7953"
             ],
             [
              0.7777777777777778,
              "#fb9f3a"
             ],
             [
              0.8888888888888888,
              "#fdca26"
             ],
             [
              1,
              "#f0f921"
             ]
            ],
            "type": "histogram2dcontour"
           }
          ],
          "mesh3d": [
           {
            "colorbar": {
             "outlinewidth": 0,
             "ticks": ""
            },
            "type": "mesh3d"
           }
          ],
          "parcoords": [
           {
            "line": {
             "colorbar": {
              "outlinewidth": 0,
              "ticks": ""
             }
            },
            "type": "parcoords"
           }
          ],
          "pie": [
           {
            "automargin": true,
            "type": "pie"
           }
          ],
          "scatter": [
           {
            "fillpattern": {
             "fillmode": "overlay",
             "size": 10,
             "solidity": 0.2
            },
            "type": "scatter"
           }
          ],
          "scatter3d": [
           {
            "line": {
             "colorbar": {
              "outlinewidth": 0,
              "ticks": ""
             }
            },
            "marker": {
             "colorbar": {
              "outlinewidth": 0,
              "ticks": ""
             }
            },
            "type": "scatter3d"
           }
          ],
          "scattercarpet": [
           {
            "marker": {
             "colorbar": {
              "outlinewidth": 0,
              "ticks": ""
             }
            },
            "type": "scattercarpet"
           }
          ],
          "scattergeo": [
           {
            "marker": {
             "colorbar": {
              "outlinewidth": 0,
              "ticks": ""
             }
            },
            "type": "scattergeo"
           }
          ],
          "scattergl": [
           {
            "marker": {
             "colorbar": {
              "outlinewidth": 0,
              "ticks": ""
             }
            },
            "type": "scattergl"
           }
          ],
          "scattermapbox": [
           {
            "marker": {
             "colorbar": {
              "outlinewidth": 0,
              "ticks": ""
             }
            },
            "type": "scattermapbox"
           }
          ],
          "scatterpolar": [
           {
            "marker": {
             "colorbar": {
              "outlinewidth": 0,
              "ticks": ""
             }
            },
            "type": "scatterpolar"
           }
          ],
          "scatterpolargl": [
           {
            "marker": {
             "colorbar": {
              "outlinewidth": 0,
              "ticks": ""
             }
            },
            "type": "scatterpolargl"
           }
          ],
          "scatterternary": [
           {
            "marker": {
             "colorbar": {
              "outlinewidth": 0,
              "ticks": ""
             }
            },
            "type": "scatterternary"
           }
          ],
          "surface": [
           {
            "colorbar": {
             "outlinewidth": 0,
             "ticks": ""
            },
            "colorscale": [
             [
              0,
              "#0d0887"
             ],
             [
              0.1111111111111111,
              "#46039f"
             ],
             [
              0.2222222222222222,
              "#7201a8"
             ],
             [
              0.3333333333333333,
              "#9c179e"
             ],
             [
              0.4444444444444444,
              "#bd3786"
             ],
             [
              0.5555555555555556,
              "#d8576b"
             ],
             [
              0.6666666666666666,
              "#ed7953"
             ],
             [
              0.7777777777777778,
              "#fb9f3a"
             ],
             [
              0.8888888888888888,
              "#fdca26"
             ],
             [
              1,
              "#f0f921"
             ]
            ],
            "type": "surface"
           }
          ],
          "table": [
           {
            "cells": {
             "fill": {
              "color": "#EBF0F8"
             },
             "line": {
              "color": "white"
             }
            },
            "header": {
             "fill": {
              "color": "#C8D4E3"
             },
             "line": {
              "color": "white"
             }
            },
            "type": "table"
           }
          ]
         },
         "layout": {
          "annotationdefaults": {
           "arrowcolor": "#2a3f5f",
           "arrowhead": 0,
           "arrowwidth": 1
          },
          "autotypenumbers": "strict",
          "coloraxis": {
           "colorbar": {
            "outlinewidth": 0,
            "ticks": ""
           }
          },
          "colorscale": {
           "diverging": [
            [
             0,
             "#8e0152"
            ],
            [
             0.1,
             "#c51b7d"
            ],
            [
             0.2,
             "#de77ae"
            ],
            [
             0.3,
             "#f1b6da"
            ],
            [
             0.4,
             "#fde0ef"
            ],
            [
             0.5,
             "#f7f7f7"
            ],
            [
             0.6,
             "#e6f5d0"
            ],
            [
             0.7,
             "#b8e186"
            ],
            [
             0.8,
             "#7fbc41"
            ],
            [
             0.9,
             "#4d9221"
            ],
            [
             1,
             "#276419"
            ]
           ],
           "sequential": [
            [
             0,
             "#0d0887"
            ],
            [
             0.1111111111111111,
             "#46039f"
            ],
            [
             0.2222222222222222,
             "#7201a8"
            ],
            [
             0.3333333333333333,
             "#9c179e"
            ],
            [
             0.4444444444444444,
             "#bd3786"
            ],
            [
             0.5555555555555556,
             "#d8576b"
            ],
            [
             0.6666666666666666,
             "#ed7953"
            ],
            [
             0.7777777777777778,
             "#fb9f3a"
            ],
            [
             0.8888888888888888,
             "#fdca26"
            ],
            [
             1,
             "#f0f921"
            ]
           ],
           "sequentialminus": [
            [
             0,
             "#0d0887"
            ],
            [
             0.1111111111111111,
             "#46039f"
            ],
            [
             0.2222222222222222,
             "#7201a8"
            ],
            [
             0.3333333333333333,
             "#9c179e"
            ],
            [
             0.4444444444444444,
             "#bd3786"
            ],
            [
             0.5555555555555556,
             "#d8576b"
            ],
            [
             0.6666666666666666,
             "#ed7953"
            ],
            [
             0.7777777777777778,
             "#fb9f3a"
            ],
            [
             0.8888888888888888,
             "#fdca26"
            ],
            [
             1,
             "#f0f921"
            ]
           ]
          },
          "colorway": [
           "#636efa",
           "#EF553B",
           "#00cc96",
           "#ab63fa",
           "#FFA15A",
           "#19d3f3",
           "#FF6692",
           "#B6E880",
           "#FF97FF",
           "#FECB52"
          ],
          "font": {
           "color": "#2a3f5f"
          },
          "geo": {
           "bgcolor": "white",
           "lakecolor": "white",
           "landcolor": "#E5ECF6",
           "showlakes": true,
           "showland": true,
           "subunitcolor": "white"
          },
          "hoverlabel": {
           "align": "left"
          },
          "hovermode": "closest",
          "mapbox": {
           "style": "light"
          },
          "paper_bgcolor": "white",
          "plot_bgcolor": "#E5ECF6",
          "polar": {
           "angularaxis": {
            "gridcolor": "white",
            "linecolor": "white",
            "ticks": ""
           },
           "bgcolor": "#E5ECF6",
           "radialaxis": {
            "gridcolor": "white",
            "linecolor": "white",
            "ticks": ""
           }
          },
          "scene": {
           "xaxis": {
            "backgroundcolor": "#E5ECF6",
            "gridcolor": "white",
            "gridwidth": 2,
            "linecolor": "white",
            "showbackground": true,
            "ticks": "",
            "zerolinecolor": "white"
           },
           "yaxis": {
            "backgroundcolor": "#E5ECF6",
            "gridcolor": "white",
            "gridwidth": 2,
            "linecolor": "white",
            "showbackground": true,
            "ticks": "",
            "zerolinecolor": "white"
           },
           "zaxis": {
            "backgroundcolor": "#E5ECF6",
            "gridcolor": "white",
            "gridwidth": 2,
            "linecolor": "white",
            "showbackground": true,
            "ticks": "",
            "zerolinecolor": "white"
           }
          },
          "shapedefaults": {
           "line": {
            "color": "#2a3f5f"
           }
          },
          "ternary": {
           "aaxis": {
            "gridcolor": "white",
            "linecolor": "white",
            "ticks": ""
           },
           "baxis": {
            "gridcolor": "white",
            "linecolor": "white",
            "ticks": ""
           },
           "bgcolor": "#E5ECF6",
           "caxis": {
            "gridcolor": "white",
            "linecolor": "white",
            "ticks": ""
           }
          },
          "title": {
           "x": 0.05
          },
          "xaxis": {
           "automargin": true,
           "gridcolor": "white",
           "linecolor": "white",
           "ticks": "",
           "title": {
            "standoff": 15
           },
           "zerolinecolor": "white",
           "zerolinewidth": 2
          },
          "yaxis": {
           "automargin": true,
           "gridcolor": "white",
           "linecolor": "white",
           "ticks": "",
           "title": {
            "standoff": 15
           },
           "zerolinecolor": "white",
           "zerolinewidth": 2
          }
         }
        },
        "title": {
         "text": "Relationship Between Quantity and Trade Value of Avocado Exports"
        },
        "xaxis": {
         "anchor": "y",
         "domain": [
          0,
          1
         ],
         "title": {
          "text": "Quantity (Tonnes)"
         }
        },
        "yaxis": {
         "anchor": "x",
         "domain": [
          0,
          1
         ],
         "title": {
          "text": "Trade Value (1,000 USD)"
         }
        }
       }
      }
     },
     "metadata": {},
     "output_type": "display_data"
    }
   ],
   "source": [
    "fig = px.scatter(df, \n",
    "                 x='quantity', \n",
    "                 y='trade_value_1000usd', \n",
    "                 color='partner',\n",
    "                 title=\"Relationship Between Quantity and Trade Value of Avocado Exports\",\n",
    "                 labels={\n",
    "                     'quantity': 'Quantity (Tonnes)',\n",
    "                     'trade_value_1000usd': 'Trade Value (1,000 USD)'\n",
    "                 })\n",
    "\n",
    "fig.show()"
   ]
  },
  {
   "cell_type": "markdown",
   "id": "12ac0a61",
   "metadata": {},
   "source": [
    "This scatter plot shows whether higher export quanttites always lead to higher trade values (in USD)\n",
    "This is a great opening point to see whether there's a clear relationship between volume and price/value and to start seeing whether any countries are outliers."
   ]
  },
  {
   "cell_type": "markdown",
   "id": "2d7154cb",
   "metadata": {},
   "source": [
    "## Chart 3 - Matplotlib & Seaborn:\n",
    "\n",
    "### Combined Box + Strip Plot – Quantity Distribution by Country\n",
    "\n",
    "**The Goal** : To visualise the spread and variation in avocado export quantities among Kenya’s top 10 export partner countries, and clearly highlight any outliers in the data."
   ]
  },
  {
   "cell_type": "markdown",
   "id": "f102954b",
   "metadata": {},
   "source": [
    "**Box and Strip Plot**  : Distribution of Export Quantities by Top 10 Countries (2023)."
   ]
  },
  {
   "cell_type": "code",
   "execution_count": 31,
   "id": "ca229cf7",
   "metadata": {},
   "outputs": [
    {
     "name": "stderr",
     "output_type": "stream",
     "text": [
      "C:\\Users\\faiza\\AppData\\Local\\Temp\\ipykernel_11880\\1816671304.py:17: FutureWarning:\n",
      "\n",
      "\n",
      "\n",
      "Passing `palette` without assigning `hue` is deprecated and will be removed in v0.14.0. Assign the `x` variable to `hue` and set `legend=False` for the same effect.\n",
      "\n",
      "\n"
     ]
    },
    {
     "data": {
      "image/png": "[encoded data removed]",
      "text/plain": [
       "<Figure size 1400x600 with 1 Axes>"
      ]
     },
     "metadata": {},
     "output_type": "display_data"
    }
   ],
   "source": [
    "# Step 1: Get top 10 countries by total export quantity\n",
    "top_10_countries = (\n",
    "    df.groupby('partner')['quantity']\n",
    "    .sum()\n",
    "    .sort_values(ascending=False)\n",
    "    .head(10)\n",
    "    .index\n",
    ")\n",
    "\n",
    "# Step 2: Filter dataset\n",
    "top_10_df = df[df['partner'].isin(top_10_countries)]\n",
    "\n",
    "# Step 3: Create a combined plot\n",
    "plt.figure(figsize=(14, 6))\n",
    "\n",
    "# Box plot\n",
    "sns.boxplot(\n",
    "    data=top_10_df,\n",
    "    x='partner',\n",
    "    y='quantity',\n",
    "    palette='Set3',\n",
    "    showfliers=True\n",
    ")\n",
    "\n",
    "# Strip plot overlay\n",
    "sns.stripplot(\n",
    "    data=top_10_df,\n",
    "    x='partner',\n",
    "    y='quantity',\n",
    "    color='black',\n",
    "    alpha=0.5,\n",
    "    jitter=0.2\n",
    ")\n",
    "\n",
    "plt.title(\"Distribution of Export Quantities by Top 10 Countries (2023)\")\n",
    "plt.xlabel(\"Partner Country\")\n",
    "plt.ylabel(\"Export Quantity (Tonnes)\")\n",
    "plt.xticks(rotation=45)\n",
    "plt.tight_layout()\n",
    "plt.show()"
   ]
  },
  {
   "cell_type": "markdown",
   "id": "a7577a98",
   "metadata": {},
   "source": [
    "The final chart on this section was uniquely made as showing just a Box plot or Strip Plot by themselves, would have been redundant and hard to spot a change. \n",
    "\n",
    "This combined plot shows how avocado export quantities vary for Kenya's top 10 export countries and highlight outliers."
   ]
  },
  {
   "cell_type": "markdown",
   "id": "870bd618",
   "metadata": {},
   "source": [
    "### To Summarise\n",
    "\n",
    "\n",
    "I have successfully completed the ETL and EDA process for this first portion of the analysis. The key accomplishments include:\n",
    "\n",
    "**ETL Pipeline Completed:**\n",
    "- ✅ **Extracted** raw data from kenyan-avocados-guide-2023.csv\n",
    "- ✅ **Transformed** data by cleaning column names, filtering for Kenya-specific exports, and removing vague 'World' entries\n",
    "- ✅ **Loaded** clean dataset into cleaned_kenyan_avocados.csv for Tableau analysis\n",
    "\n",
    "**Data Quality Improvements:**\n",
    "- Removed ambiguous 'World' category entries as they were too vague for country-specific export analysis\n",
    "- Created calculated fields including `price_per_tonne_usd` for deeper insights\n",
    "- Filtered dataset to focus specifically on Kenya's export destinations\n",
    "- Standardized column names for consistency\n",
    "\n",
    "**Key Findings from Visualizations:**\n",
    "- Identified top 10 export destinations by trade value, providing clear market priorities\n",
    "- Established relationship patterns between export quantity and trade value through scatter analysis\n",
    "- Revealed distribution patterns and outliers in export quantities across partner countries\n",
    "\n",
    "**Next Steps:**\n",
    "The cleaned dataset is now ready for advanced Tableau dashboard creation and deeper statistical analysis. The foundation has been set to explore Kenya's avocado export market dynamics, pricing strategies, and key trading relationships.\n",
    " \n",
    "The dashboard visualisations for this data can be found [here](https://public.tableau.com/app/profile/faiza.abdulqadir/viz/Kenyan_Avocado_Analysis/KenyanAvocadoExportsAnalysis?publish=yes).\n"
   ]
  }
 ],
 "metadata": {
  "kernelspec": {
   "display_name": "Python 3",
   "language": "python",
   "name": "python3"
  },
  "language_info": {
   "codemirror_mode": {
    "name": "ipython",
    "version": 3
   },
   "file_extension": ".py",
   "mimetype": "text/x-python",
   "name": "python",
   "nbconvert_exporter": "python",
   "pygments_lexer": "ipython3",
   "version": "3.12.8"
  }
 },
 "nbformat": 4,
 "nbformat_minor": 5
}
