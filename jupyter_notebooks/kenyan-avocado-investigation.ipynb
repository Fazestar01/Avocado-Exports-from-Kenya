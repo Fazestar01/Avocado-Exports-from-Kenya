{
 "cells": [
  {
   "cell_type": "markdown",
   "id": "e8bedb14",
   "metadata": {},
   "source": [
    "## Kenyan Avocado Export Investigations"
   ]
  },
  {
   "cell_type": "markdown",
   "id": "a833e403",
   "metadata": {},
   "source": [
    "## Navigation:\n",
    "* [Readme](https://github.com/Fazestar01/Car-Price-Analysis/blob/main/README.md)\n",
    "* [Clean Data](https://github.com/Fazestar01/Car-Price-Analysis/blob/main/data/cleanedcardata.csv)\n",
    "* [Raw Data](https://github.com/Fazestar01/Car-Price-Analysis/blob/main/data/CarPrice_Assignment.csv)\n",
    "* [Dashboard](https://public.tableau.com/app/profile/kaori.ikarashi/viz/CarPriceAnalysis_17501618237170/Story1?publish=yes)"
   ]
  },
  {
   "cell_type": "markdown",
   "id": "3f5e2a50",
   "metadata": {},
   "source": [
    "#### Importing libraries and loading data\n",
    "\n",
    "Firstly and the most important thing here, is to import necessary libraries needed for this investigation:"
   ]
  },
  {
   "cell_type": "code",
   "execution_count": 1,
   "id": "102f67f3",
   "metadata": {},
   "outputs": [],
   "source": [
    "import pandas as pd \n",
    "import numpy as np"
   ]
  }
 ],
 "metadata": {
  "kernelspec": {
   "display_name": "Python 3",
   "language": "python",
   "name": "python3"
  },
  "language_info": {
   "codemirror_mode": {
    "name": "ipython",
    "version": 3
   },
   "file_extension": ".py",
   "mimetype": "text/x-python",
   "name": "python",
   "nbconvert_exporter": "python",
   "pygments_lexer": "ipython3",
   "version": "3.12.8"
  }
 },
 "nbformat": 4,
 "nbformat_minor": 5
}
