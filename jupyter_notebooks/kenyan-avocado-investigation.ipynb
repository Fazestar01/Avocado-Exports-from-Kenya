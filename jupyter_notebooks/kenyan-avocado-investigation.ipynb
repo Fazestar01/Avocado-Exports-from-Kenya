{
 "cells": [
  {
   "cell_type": "markdown",
   "id": "e8bedb14",
   "metadata": {},
   "source": [
    "## Kenyan Avocado Export Investigations"
   ]
  },
  {
   "cell_type": "markdown",
   "id": "a833e403",
   "metadata": {},
   "source": [
    "## Navigation:\n",
    "* [Readme](https://github.com/Fazestar01/Car-Price-Analysis/blob/main/README.md)\n",
    "* [Clean Data](https://github.com/Fazestar01/Car-Price-Analysis/blob/main/data/cleanedcardata.csv)\n",
    "* [Raw Data](https://github.com/Fazestar01/Car-Price-Analysis/blob/main/data/CarPrice_Assignment.csv)\n",
    "* [Dashboard](https://public.tableau.com/app/profile/kaori.ikarashi/viz/CarPriceAnalysis_17501618237170/Story1?publish=yes)"
   ]
  },
  {
   "cell_type": "markdown",
   "id": "3f5e2a50",
   "metadata": {},
   "source": [
    "#### Importing libraries and loading data\n",
    "\n",
    "Firstly and the most important thing here, is to import necessary libraries needed for this investigation:"
   ]
  },
  {
   "cell_type": "code",
   "execution_count": 13,
   "id": "102f67f3",
   "metadata": {},
   "outputs": [],
   "source": [
    "# importing necessary libraries\n",
    "import pandas as pd \n",
    "import numpy as np"
   ]
  },
  {
   "cell_type": "markdown",
   "id": "d81aab64",
   "metadata": {},
   "source": [
    "Once libraries were imported, the next stage was to move onto loading the CSV file for the investigation to proceed. "
   ]
  },
  {
   "cell_type": "markdown",
   "id": "e1c0e3d7",
   "metadata": {},
   "source": [
    "`Side note: The file was originally in the .xlsx format which wasnt very helpful to use as it was near impossible to use on this investigation. The best move was to convert the data into a .CSV file using the Excel software then importing into here.`"
   ]
  },
  {
   "cell_type": "code",
   "execution_count": 14,
   "id": "354c94a1",
   "metadata": {},
   "outputs": [
    {
     "data": {
      "text/html": [
       "<div>\n",
       "<style scoped>\n",
       "    .dataframe tbody tr th:only-of-type {\n",
       "        vertical-align: middle;\n",
       "    }\n",
       "\n",
       "    .dataframe tbody tr th {\n",
       "        vertical-align: top;\n",
       "    }\n",
       "\n",
       "    .dataframe thead th {\n",
       "        text-align: right;\n",
       "    }\n",
       "</style>\n",
       "<table border=\"1\" class=\"dataframe\">\n",
       "  <thead>\n",
       "    <tr style=\"text-align: right;\">\n",
       "      <th></th>\n",
       "      <th>Reporter</th>\n",
       "      <th>TradeFlow</th>\n",
       "      <th>ProductCode</th>\n",
       "      <th>Product Description</th>\n",
       "      <th>Year</th>\n",
       "      <th>Partner</th>\n",
       "      <th>Trade Value 1000USD</th>\n",
       "      <th>Quantity</th>\n",
       "      <th>Quantity Unit</th>\n",
       "    </tr>\n",
       "  </thead>\n",
       "  <tbody>\n",
       "    <tr>\n",
       "      <th>0</th>\n",
       "      <td>Kenya</td>\n",
       "      <td>Export</td>\n",
       "      <td>80440</td>\n",
       "      <td>Avocados, fresh or dried</td>\n",
       "      <td>2023</td>\n",
       "      <td>World</td>\n",
       "      <td>140939.93</td>\n",
       "      <td>122581000.0</td>\n",
       "      <td>Kg</td>\n",
       "    </tr>\n",
       "    <tr>\n",
       "      <th>1</th>\n",
       "      <td>Kenya</td>\n",
       "      <td>Export</td>\n",
       "      <td>80440</td>\n",
       "      <td>Avocados, fresh or dried</td>\n",
       "      <td>2023</td>\n",
       "      <td>Netherlands</td>\n",
       "      <td>42104.41</td>\n",
       "      <td>37450800.0</td>\n",
       "      <td>Kg</td>\n",
       "    </tr>\n",
       "    <tr>\n",
       "      <th>2</th>\n",
       "      <td>Kenya</td>\n",
       "      <td>Export</td>\n",
       "      <td>80440</td>\n",
       "      <td>Avocados, fresh or dried</td>\n",
       "      <td>2023</td>\n",
       "      <td>United Arab Emirates</td>\n",
       "      <td>19235.41</td>\n",
       "      <td>15931400.0</td>\n",
       "      <td>Kg</td>\n",
       "    </tr>\n",
       "    <tr>\n",
       "      <th>3</th>\n",
       "      <td>Kenya</td>\n",
       "      <td>Export</td>\n",
       "      <td>80440</td>\n",
       "      <td>Avocados, fresh or dried</td>\n",
       "      <td>2023</td>\n",
       "      <td>France</td>\n",
       "      <td>14672.57</td>\n",
       "      <td>12117200.0</td>\n",
       "      <td>Kg</td>\n",
       "    </tr>\n",
       "    <tr>\n",
       "      <th>4</th>\n",
       "      <td>Kenya</td>\n",
       "      <td>Export</td>\n",
       "      <td>80440</td>\n",
       "      <td>Avocados, fresh or dried</td>\n",
       "      <td>2023</td>\n",
       "      <td>Spain</td>\n",
       "      <td>13442.72</td>\n",
       "      <td>11372500.0</td>\n",
       "      <td>Kg</td>\n",
       "    </tr>\n",
       "  </tbody>\n",
       "</table>\n",
       "</div>"
      ],
      "text/plain": [
       "  Reporter TradeFlow  ProductCode       Product Description  Year  \\\n",
       "0    Kenya    Export        80440  Avocados, fresh or dried  2023   \n",
       "1    Kenya    Export        80440  Avocados, fresh or dried  2023   \n",
       "2    Kenya    Export        80440  Avocados, fresh or dried  2023   \n",
       "3    Kenya    Export        80440  Avocados, fresh or dried  2023   \n",
       "4    Kenya    Export        80440  Avocados, fresh or dried  2023   \n",
       "\n",
       "                Partner  Trade Value 1000USD     Quantity Quantity Unit  \n",
       "0                 World            140939.93  122581000.0            Kg  \n",
       "1           Netherlands             42104.41   37450800.0            Kg  \n",
       "2  United Arab Emirates             19235.41   15931400.0            Kg  \n",
       "3                France             14672.57   12117200.0            Kg  \n",
       "4                 Spain             13442.72   11372500.0            Kg  "
      ]
     },
     "execution_count": 14,
     "metadata": {},
     "output_type": "execute_result"
    }
   ],
   "source": [
    "# Read CSV file\n",
    "df = pd.read_csv(\"../data/raw/kenyan-avocados-guide-2023.csv\")\n",
    "df.head()"
   ]
  },
  {
   "cell_type": "markdown",
   "id": "f6d0eac3",
   "metadata": {},
   "source": [
    "After loading the data, it is an important step to show the .head of the table. This gives a clearer view as it lets me see what the actual data looks like, allows me to check if the columns are named properly and to confirm if the data has loaded properly."
   ]
  },
  {
   "cell_type": "code",
   "execution_count": null,
   "id": "2921eec7",
   "metadata": {},
   "outputs": [
    {
     "name": "stdout",
     "output_type": "stream",
     "text": [
      "✅ Dataset shape: (62, 9)\n"
     ]
    },
    {
     "data": {
      "text/html": [
       "<div>\n",
       "<style scoped>\n",
       "    .dataframe tbody tr th:only-of-type {\n",
       "        vertical-align: middle;\n",
       "    }\n",
       "\n",
       "    .dataframe tbody tr th {\n",
       "        vertical-align: top;\n",
       "    }\n",
       "\n",
       "    .dataframe thead th {\n",
       "        text-align: right;\n",
       "    }\n",
       "</style>\n",
       "<table border=\"1\" class=\"dataframe\">\n",
       "  <thead>\n",
       "    <tr style=\"text-align: right;\">\n",
       "      <th></th>\n",
       "      <th>Reporter</th>\n",
       "      <th>TradeFlow</th>\n",
       "      <th>ProductCode</th>\n",
       "      <th>Product Description</th>\n",
       "      <th>Year</th>\n",
       "      <th>Partner</th>\n",
       "      <th>Trade Value 1000USD</th>\n",
       "      <th>Quantity</th>\n",
       "      <th>Quantity Unit</th>\n",
       "    </tr>\n",
       "  </thead>\n",
       "  <tbody>\n",
       "    <tr>\n",
       "      <th>0</th>\n",
       "      <td>Kenya</td>\n",
       "      <td>Export</td>\n",
       "      <td>80440</td>\n",
       "      <td>Avocados, fresh or dried</td>\n",
       "      <td>2023</td>\n",
       "      <td>World</td>\n",
       "      <td>140939.93</td>\n",
       "      <td>122581000.0</td>\n",
       "      <td>Kg</td>\n",
       "    </tr>\n",
       "    <tr>\n",
       "      <th>1</th>\n",
       "      <td>Kenya</td>\n",
       "      <td>Export</td>\n",
       "      <td>80440</td>\n",
       "      <td>Avocados, fresh or dried</td>\n",
       "      <td>2023</td>\n",
       "      <td>Netherlands</td>\n",
       "      <td>42104.41</td>\n",
       "      <td>37450800.0</td>\n",
       "      <td>Kg</td>\n",
       "    </tr>\n",
       "    <tr>\n",
       "      <th>2</th>\n",
       "      <td>Kenya</td>\n",
       "      <td>Export</td>\n",
       "      <td>80440</td>\n",
       "      <td>Avocados, fresh or dried</td>\n",
       "      <td>2023</td>\n",
       "      <td>United Arab Emirates</td>\n",
       "      <td>19235.41</td>\n",
       "      <td>15931400.0</td>\n",
       "      <td>Kg</td>\n",
       "    </tr>\n",
       "    <tr>\n",
       "      <th>3</th>\n",
       "      <td>Kenya</td>\n",
       "      <td>Export</td>\n",
       "      <td>80440</td>\n",
       "      <td>Avocados, fresh or dried</td>\n",
       "      <td>2023</td>\n",
       "      <td>France</td>\n",
       "      <td>14672.57</td>\n",
       "      <td>12117200.0</td>\n",
       "      <td>Kg</td>\n",
       "    </tr>\n",
       "    <tr>\n",
       "      <th>4</th>\n",
       "      <td>Kenya</td>\n",
       "      <td>Export</td>\n",
       "      <td>80440</td>\n",
       "      <td>Avocados, fresh or dried</td>\n",
       "      <td>2023</td>\n",
       "      <td>Spain</td>\n",
       "      <td>13442.72</td>\n",
       "      <td>11372500.0</td>\n",
       "      <td>Kg</td>\n",
       "    </tr>\n",
       "  </tbody>\n",
       "</table>\n",
       "</div>"
      ],
      "text/plain": [
       "  Reporter TradeFlow  ProductCode       Product Description  Year  \\\n",
       "0    Kenya    Export        80440  Avocados, fresh or dried  2023   \n",
       "1    Kenya    Export        80440  Avocados, fresh or dried  2023   \n",
       "2    Kenya    Export        80440  Avocados, fresh or dried  2023   \n",
       "3    Kenya    Export        80440  Avocados, fresh or dried  2023   \n",
       "4    Kenya    Export        80440  Avocados, fresh or dried  2023   \n",
       "\n",
       "                Partner  Trade Value 1000USD     Quantity Quantity Unit  \n",
       "0                 World            140939.93  122581000.0            Kg  \n",
       "1           Netherlands             42104.41   37450800.0            Kg  \n",
       "2  United Arab Emirates             19235.41   15931400.0            Kg  \n",
       "3                France             14672.57   12117200.0            Kg  \n",
       "4                 Spain             13442.72   11372500.0            Kg  "
      ]
     },
     "execution_count": 15,
     "metadata": {},
     "output_type": "execute_result"
    }
   ],
   "source": [
    "#inspect the dataset\n",
    "print(\"✅ Dataset shape:\", df.shape)\n",
    "df.head()"
   ]
  },
  {
   "cell_type": "markdown",
   "id": "d5b7515a",
   "metadata": {},
   "source": [
    "Above shows the number of columns and rows the dataset has and confirms to me that this dataset is enough to be used for this investigation. I also added a '✅' aspect for a clean touch."
   ]
  }
 ],
 "metadata": {
  "kernelspec": {
   "display_name": "Python 3",
   "language": "python",
   "name": "python3"
  },
  "language_info": {
   "codemirror_mode": {
    "name": "ipython",
    "version": 3
   },
   "file_extension": ".py",
   "mimetype": "text/x-python",
   "name": "python",
   "nbconvert_exporter": "python",
   "pygments_lexer": "ipython3",
   "version": "3.12.8"
  }
 },
 "nbformat": 4,
 "nbformat_minor": 5
}
